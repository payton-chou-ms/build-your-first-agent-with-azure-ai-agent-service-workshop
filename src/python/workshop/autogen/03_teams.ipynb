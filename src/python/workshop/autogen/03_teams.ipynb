{
 "cells": [
  {
   "cell_type": "markdown",
   "metadata": {},
   "source": [
    "## Round-Robin Group Chat\n",
    "`RoundRobinGroupChat` is a simple team that allows all agents to share context and take turns to respond in a round-robin fashion. \n",
    "\n",
    "On its turn, each agent broadcasts its response to all other agents in the team, so **all agents have the same context**.\n",
    "\n",
    "We will start by creating a team with a single AssistantAgent agent and TextMentionTermination termination condition that stops the team when a word is detected."
   ]
  },
  {
   "cell_type": "code",
   "execution_count": 1,
   "metadata": {},
   "outputs": [
    {
     "name": "stdout",
     "output_type": "stream",
     "text": [
      "gpt-4o-mini\n"
     ]
    }
   ],
   "source": [
    "import os\n",
    "from dotenv import load_dotenv\n",
    "\n",
    "load_dotenv()\n",
    "\n",
    "print(os.getenv('CHAT_MODEL'))"
   ]
  },
  {
   "cell_type": "code",
   "execution_count": 2,
   "metadata": {},
   "outputs": [],
   "source": [
    "import os\n",
    "from azure.ai.projects import AIProjectClient\n",
    "from azure.identity import DefaultAzureCredential\n",
    "from autogen_ext.models.openai import AzureOpenAIChatCompletionClient\n",
    "\n",
    "\n",
    "project_client = AIProjectClient.from_connection_string(\n",
    "    credential=DefaultAzureCredential(), conn_str=os.environ[\"AIPROJECT_CONNECTION_STRING\"]\n",
    ")\n",
    "\n",
    "base_url = project_client.inference.get_azure_openai_client(\n",
    "    api_version=\"2024-06-01\").base_url\n",
    "\n",
    "api_endpoint = f'https://{base_url.host}/'\n",
    "\n",
    "api_key = project_client.inference.get_azure_openai_client(\n",
    "    api_version=\"2024-06-01\").api_key\n",
    "\n",
    "deployment_name = os.environ[\"CHAT_MODEL\"]\n",
    "\n",
    "aoai_client = AzureOpenAIChatCompletionClient(\n",
    "    azure_endpoint=api_endpoint,\n",
    "    model=\"gpt-4o-mini\",\n",
    "    azure_deployment=deployment_name,\n",
    "    api_key=api_key,\n",
    "    api_version=\"2024-06-01\"\n",
    ")"
   ]
  },
  {
   "cell_type": "code",
   "execution_count": 3,
   "metadata": {},
   "outputs": [],
   "source": [
    "from autogen_agentchat.agents import AssistantAgent\n",
    "from autogen_agentchat.teams import RoundRobinGroupChat\n",
    "from autogen_agentchat.conditions import TextMentionTermination\n",
    "\n",
    "\n",
    "# Define a tool that gets the weather for a city.\n",
    "async def get_weather(city: str) -> str:\n",
    "    \"\"\"Get the weather for a city.\"\"\"\n",
    "    return f\"The weather in {city} is 72 degrees and Sunny.\"\n",
    "\n",
    "\n",
    "# Create an assistant agent.\n",
    "weather_agent = AssistantAgent(\n",
    "    \"assistant\",\n",
    "    model_client=aoai_client,\n",
    "    tools=[get_weather],\n",
    "    system_message=\"Respond 'TERMINATE' when task is complete.\",\n",
    ")\n",
    "\n",
    "# Define a termination condition.\n",
    "text_termination = TextMentionTermination(\"TERMINATE\")\n",
    "\n",
    "# Create a single-agent team.\n",
    "single_agent_team = RoundRobinGroupChat(\n",
    "    [weather_agent], termination_condition=text_termination)"
   ]
  },
  {
   "cell_type": "code",
   "execution_count": 4,
   "metadata": {},
   "outputs": [
    {
     "name": "stdout",
     "output_type": "stream",
     "text": [
      "TaskResult(messages=[TextMessage(source='user', models_usage=None, metadata={}, content='What is the weather in New York?', type='TextMessage'), ToolCallRequestEvent(source='assistant', models_usage=RequestUsage(prompt_tokens=70, completion_tokens=16), metadata={}, content=[FunctionCall(id='call_whSX5zJgCP1QMIjdsSaS4XB7', arguments='{\"city\":\"New York\"}', name='get_weather')], type='ToolCallRequestEvent'), ToolCallExecutionEvent(source='assistant', models_usage=None, metadata={}, content=[FunctionExecutionResult(content='The weather in New York is 72 degrees and Sunny.', name='get_weather', call_id='call_whSX5zJgCP1QMIjdsSaS4XB7', is_error=False)], type='ToolCallExecutionEvent'), ToolCallSummaryMessage(source='assistant', models_usage=None, metadata={}, content='The weather in New York is 72 degrees and Sunny.', type='ToolCallSummaryMessage'), TextMessage(source='assistant', models_usage=RequestUsage(prompt_tokens=107, completion_tokens=16), metadata={}, content='The weather in New York is 72 degrees and sunny. TERMINATE', type='TextMessage')], stop_reason=\"Text 'TERMINATE' mentioned\")\n"
     ]
    }
   ],
   "source": [
    "async def run_team() -> None:\n",
    "    result = await single_agent_team.run(task=\"What is the weather in New York?\")\n",
    "    print(result)\n",
    "\n",
    "\n",
    "# Use `asyncio.run(run_team())` when running in a script.\n",
    "await run_team()"
   ]
  },
  {
   "cell_type": "code",
   "execution_count": 5,
   "metadata": {},
   "outputs": [],
   "source": [
    "await single_agent_team.reset()  # Reset the team for the next run."
   ]
  },
  {
   "cell_type": "markdown",
   "metadata": {},
   "source": [
    "## Streaming Team Messages\n",
    "Similar to agent’s `on_messages_stream()` method, you can stream the team’s messages by calling the `run_stream()` method. \n",
    "\n",
    "It will return a generator that yields the messages produced by the agents in the team as they are generated, and the last item will be the task result."
   ]
  },
  {
   "cell_type": "code",
   "execution_count": 6,
   "metadata": {},
   "outputs": [
    {
     "name": "stdout",
     "output_type": "stream",
     "text": [
      "source='user' models_usage=None metadata={} content='What is the weather in New York?' type='TextMessage'\n",
      "source='assistant' models_usage=RequestUsage(prompt_tokens=70, completion_tokens=16) metadata={} content=[FunctionCall(id='call_0VoTIfV2I2yxOOk9HPWIxi83', arguments='{\"city\":\"New York\"}', name='get_weather')] type='ToolCallRequestEvent'\n",
      "source='assistant' models_usage=None metadata={} content=[FunctionExecutionResult(content='The weather in New York is 72 degrees and Sunny.', name='get_weather', call_id='call_0VoTIfV2I2yxOOk9HPWIxi83', is_error=False)] type='ToolCallExecutionEvent'\n",
      "source='assistant' models_usage=None metadata={} content='The weather in New York is 72 degrees and Sunny.' type='ToolCallSummaryMessage'\n",
      "source='assistant' models_usage=RequestUsage(prompt_tokens=107, completion_tokens=16) metadata={} content='The weather in New York is 72 degrees and sunny. TERMINATE' type='TextMessage'\n",
      "Stop Reason: Text 'TERMINATE' mentioned\n"
     ]
    }
   ],
   "source": [
    "from autogen_agentchat.base import TaskResult\n",
    "\n",
    "\n",
    "async def run_team_stream() -> None:\n",
    "    async for message in single_agent_team.run_stream(task=\"What is the weather in New York?\"):\n",
    "        if isinstance(message, TaskResult):\n",
    "            print(\"Stop Reason:\", message.stop_reason)\n",
    "        else:\n",
    "            print(message)\n",
    "\n",
    "\n",
    "# Use `asyncio.run(run_team_stream())` when running in a script.\n",
    "await run_team_stream()"
   ]
  },
  {
   "cell_type": "code",
   "execution_count": 7,
   "metadata": {},
   "outputs": [
    {
     "name": "stdout",
     "output_type": "stream",
     "text": [
      "---------- user ----------\n",
      "What is the weather in Seattle?\n",
      "---------- assistant ----------\n",
      "[FunctionCall(id='call_v5Y61QNh657OiIJIw53ZbjFc', arguments='{\"city\":\"Seattle\"}', name='get_weather')]\n",
      "---------- assistant ----------\n",
      "[FunctionExecutionResult(content='The weather in Seattle is 72 degrees and Sunny.', name='get_weather', call_id='call_v5Y61QNh657OiIJIw53ZbjFc', is_error=False)]\n",
      "---------- assistant ----------\n",
      "The weather in Seattle is 72 degrees and Sunny.\n",
      "---------- assistant ----------\n",
      "The weather in Seattle is 72 degrees and sunny.\n",
      "---------- assistant ----------\n",
      "\n",
      "---------- assistant ----------\n",
      "\n",
      "---------- assistant ----------\n",
      "[FunctionCall(id='call_VjkxwoXtw6QK2kf8PEhYNaT6', arguments='{\"city\":\"Seattle\"}', name='get_weather')]\n",
      "---------- assistant ----------\n",
      "[FunctionExecutionResult(content='The weather in Seattle is 72 degrees and Sunny.', name='get_weather', call_id='call_VjkxwoXtw6QK2kf8PEhYNaT6', is_error=False)]\n",
      "---------- assistant ----------\n",
      "The weather in Seattle is 72 degrees and Sunny.\n",
      "---------- assistant ----------\n",
      "The weather in Seattle is 72 degrees and sunny.\n",
      "---------- assistant ----------\n",
      "[FunctionCall(id='call_WVUQIbbsp1Q5WHkuHQPXXLOW', arguments='{\"city\": \"Seattle\"}', name='get_weather')]\n",
      "---------- assistant ----------\n",
      "[FunctionExecutionResult(content='The weather in Seattle is 72 degrees and Sunny.', name='get_weather', call_id='call_WVUQIbbsp1Q5WHkuHQPXXLOW', is_error=False)]\n",
      "---------- assistant ----------\n",
      "The weather in Seattle is 72 degrees and Sunny.\n",
      "---------- assistant ----------\n",
      "The weather in Seattle is 72 degrees and sunny.\n",
      "---------- assistant ----------\n",
      "The weather in Seattle is 72 degrees and sunny. \n",
      "\n",
      "TERMINATE\n"
     ]
    },
    {
     "data": {
      "text/plain": [
       "TaskResult(messages=[TextMessage(source='user', models_usage=None, metadata={}, content='What is the weather in Seattle?', type='TextMessage'), ToolCallRequestEvent(source='assistant', models_usage=RequestUsage(prompt_tokens=69, completion_tokens=15), metadata={}, content=[FunctionCall(id='call_v5Y61QNh657OiIJIw53ZbjFc', arguments='{\"city\":\"Seattle\"}', name='get_weather')], type='ToolCallRequestEvent'), ToolCallExecutionEvent(source='assistant', models_usage=None, metadata={}, content=[FunctionExecutionResult(content='The weather in Seattle is 72 degrees and Sunny.', name='get_weather', call_id='call_v5Y61QNh657OiIJIw53ZbjFc', is_error=False)], type='ToolCallExecutionEvent'), ToolCallSummaryMessage(source='assistant', models_usage=None, metadata={}, content='The weather in Seattle is 72 degrees and Sunny.', type='ToolCallSummaryMessage'), TextMessage(source='assistant', models_usage=RequestUsage(prompt_tokens=104, completion_tokens=13), metadata={}, content='The weather in Seattle is 72 degrees and sunny.', type='TextMessage'), TextMessage(source='assistant', models_usage=RequestUsage(prompt_tokens=121, completion_tokens=5), metadata={}, content='', type='TextMessage'), TextMessage(source='assistant', models_usage=RequestUsage(prompt_tokens=127, completion_tokens=5), metadata={}, content='', type='TextMessage'), ToolCallRequestEvent(source='assistant', models_usage=RequestUsage(prompt_tokens=133, completion_tokens=15), metadata={}, content=[FunctionCall(id='call_VjkxwoXtw6QK2kf8PEhYNaT6', arguments='{\"city\":\"Seattle\"}', name='get_weather')], type='ToolCallRequestEvent'), ToolCallExecutionEvent(source='assistant', models_usage=None, metadata={}, content=[FunctionExecutionResult(content='The weather in Seattle is 72 degrees and Sunny.', name='get_weather', call_id='call_VjkxwoXtw6QK2kf8PEhYNaT6', is_error=False)], type='ToolCallExecutionEvent'), ToolCallSummaryMessage(source='assistant', models_usage=None, metadata={}, content='The weather in Seattle is 72 degrees and Sunny.', type='ToolCallSummaryMessage'), TextMessage(source='assistant', models_usage=RequestUsage(prompt_tokens=168, completion_tokens=13), metadata={}, content='The weather in Seattle is 72 degrees and sunny.', type='TextMessage'), ToolCallRequestEvent(source='assistant', models_usage=RequestUsage(prompt_tokens=185, completion_tokens=31), metadata={}, content=[FunctionCall(id='call_WVUQIbbsp1Q5WHkuHQPXXLOW', arguments='{\"city\": \"Seattle\"}', name='get_weather')], type='ToolCallRequestEvent'), ToolCallExecutionEvent(source='assistant', models_usage=None, metadata={}, content=[FunctionExecutionResult(content='The weather in Seattle is 72 degrees and Sunny.', name='get_weather', call_id='call_WVUQIbbsp1Q5WHkuHQPXXLOW', is_error=False)], type='ToolCallExecutionEvent'), ToolCallSummaryMessage(source='assistant', models_usage=None, metadata={}, content='The weather in Seattle is 72 degrees and Sunny.', type='ToolCallSummaryMessage'), TextMessage(source='assistant', models_usage=RequestUsage(prompt_tokens=220, completion_tokens=13), metadata={}, content='The weather in Seattle is 72 degrees and sunny.', type='TextMessage'), TextMessage(source='assistant', models_usage=RequestUsage(prompt_tokens=237, completion_tokens=17), metadata={}, content='The weather in Seattle is 72 degrees and sunny. \\n\\nTERMINATE', type='TextMessage')], stop_reason=\"Text 'TERMINATE' mentioned\")"
      ]
     },
     "execution_count": 7,
     "metadata": {},
     "output_type": "execute_result"
    }
   ],
   "source": [
    "from autogen_agentchat.ui import Console\n",
    "\n",
    "# Use `asyncio.run(single_agent_team.reset())` when running in a script.\n",
    "await single_agent_team.reset()  # Reset the team for the next run.\n",
    "# Use `asyncio.run(single_agent_team.run_stream(task=\"What is the weather in Seattle?\"))` when running in a script.\n",
    "await Console(\n",
    "    single_agent_team.run_stream(task=\"What is the weather in Seattle?\")\n",
    ")  # Stream the messages to the console."
   ]
  },
  {
   "cell_type": "markdown",
   "metadata": {},
   "source": [
    "## Reflection Pattern\n",
    "Now we will create a team with two agents that implements the Reflection pattern, which is a multi-agent design pattern that uses a critic agent to evaluate the responses of a primary agent.\n",
    "\n",
    "See how the reflection pattern works using the Core API.\n",
    "\n",
    "In this example, we will use the `AssistantAgent` agent class for both the primary and critic agents. We will use both the `TextMentionTermination` and `MaxMessageTermination` termination conditions together to stop the team."
   ]
  },
  {
   "cell_type": "code",
   "execution_count": 8,
   "metadata": {},
   "outputs": [],
   "source": [
    "from autogen_agentchat.agents import AssistantAgent\n",
    "from autogen_agentchat.teams import RoundRobinGroupChat\n",
    "from autogen_agentchat.conditions import MaxMessageTermination, TextMentionTermination\n",
    "\n",
    "\n",
    "# Create the primary agent.\n",
    "primary_agent = AssistantAgent(\n",
    "    \"primary\",\n",
    "    model_client=aoai_client,\n",
    "    system_message=\"You are a helpful AI assistant.\",\n",
    ")\n",
    "\n",
    "# Create the critic agent.\n",
    "critic_agent = AssistantAgent(\n",
    "    \"critic\",\n",
    "    model_client=aoai_client,\n",
    "    system_message=\"Provide constructive feedback. Respond with 'APPROVE' to when your feedbacks are addressed.\",\n",
    ")\n",
    "\n",
    "# Define a termination condition that stops the task if the critic approves.\n",
    "text_termination = TextMentionTermination(\"APPROVE\")\n",
    "# Define a termination condition that stops the task after 5 messages.\n",
    "max_message_termination = MaxMessageTermination(5)\n",
    "# Combine the termination conditions using the `|`` operator so that the\n",
    "# task stops when either condition is met.\n",
    "termination = text_termination | max_message_termination\n",
    "\n",
    "# Create a team with the primary and critic agents.\n",
    "reflection_team = RoundRobinGroupChat(\n",
    "    [primary_agent, critic_agent], termination_condition=termination)"
   ]
  },
  {
   "cell_type": "code",
   "execution_count": 9,
   "metadata": {},
   "outputs": [
    {
     "name": "stdout",
     "output_type": "stream",
     "text": [
      "---------- user ----------\n",
      "Write a short poem about fall season.\n",
      "---------- primary ----------\n",
      "In the crisp air, leaves gently sway,  \n",
      "Gold and amber mark the day.  \n",
      "Pumpkins gleam in twilight’s glow,  \n",
      "Harvest time, a bountiful show.  \n",
      "\n",
      "Whispers of wind through trees that sigh,  \n",
      "As they shed their garments, bright and spry.  \n",
      "Sweaters pulled tight, a warm embrace,  \n",
      "Nature's artwork, a vibrant lace.  \n",
      "\n",
      "Hot cider brews, and stories unfold,  \n",
      "By fireside warmth, the nights grow bold.  \n",
      "With each fading light, a soft goodbye,  \n",
      "To summer’s warmth, as the seasons fly.\n",
      "---------- critic ----------\n",
      "Your poem beautifully captures the essence of the fall season with vivid imagery and a warm, inviting tone. The use of sensory details, like \"crisp air\" and \"hot cider brews,\" effectively immerses the reader in the experience of autumn. \n",
      "\n",
      "A couple of suggestions to enhance the poem further:\n",
      "1. Consider using more varied line lengths or structures to create a dynamic rhythm.\n",
      "2. You might explore adding a metaphor or simile in a stanza to deepen the imagery and emotional resonance.\n",
      "\n",
      "Overall, it's a lovely piece, just a few tweaks might elevate it even more!\n",
      "---------- primary ----------\n",
      "Thank you for your thoughtful feedback! I appreciate your suggestions and will revise the poem to incorporate more varied line lengths and a metaphor. Here’s a revised version:\n",
      "\n",
      "---\n",
      "\n",
      "In the crisp air, leaves dance and sway,  \n",
      "Gold and amber fringes mark the day.  \n",
      "Pumpkins wander like thoughts untold,  \n",
      "As harvest whispers secrets bold.  \n",
      "\n",
      "Whispers of wind weave through the trees,  \n",
      "Shedding their cloaks with gentle ease.  \n",
      "Sweaters cocoon in a warm embrace,  \n",
      "Nature's canvas, a vibrant lace.  \n",
      "\n",
      "Like the sun, the days begin to wane,  \n",
      "Fireside stories spark joy and gain.  \n",
      "With every twilight’s soft, lingering light,  \n",
      "We bid summer’s warmth a tender goodnight.  \n",
      "\n",
      "---\n",
      "\n",
      "I hope you find this enhanced version even more evocative!\n",
      "---------- critic ----------\n",
      "Your revisions have certainly elevated the poem! The varied line lengths add a nice rhythm, and the metaphor of \"Pumpkins wander like thoughts untold\" is a captivating touch that deepens the imagery. \n",
      "\n",
      "The imagery throughout the poem remains rich, and the progression from day to night encapsulates the essence of autumn beautifully. The lines flow well together, and the warm embrace of the season is palpable.\n",
      "\n",
      "Great job incorporating feedback! APPROVE.\n"
     ]
    },
    {
     "data": {
      "text/plain": [
       "TaskResult(messages=[TextMessage(source='user', models_usage=None, metadata={}, content='Write a short poem about fall season.', type='TextMessage'), TextMessage(source='primary', models_usage=RequestUsage(prompt_tokens=27, completion_tokens=121), metadata={}, content=\"In the crisp air, leaves gently sway,  \\nGold and amber mark the day.  \\nPumpkins gleam in twilight’s glow,  \\nHarvest time, a bountiful show.  \\n\\nWhispers of wind through trees that sigh,  \\nAs they shed their garments, bright and spry.  \\nSweaters pulled tight, a warm embrace,  \\nNature's artwork, a vibrant lace.  \\n\\nHot cider brews, and stories unfold,  \\nBy fireside warmth, the nights grow bold.  \\nWith each fading light, a soft goodbye,  \\nTo summer’s warmth, as the seasons fly.\", type='TextMessage'), TextMessage(source='critic', models_usage=RequestUsage(prompt_tokens=165, completion_tokens=117), metadata={}, content='Your poem beautifully captures the essence of the fall season with vivid imagery and a warm, inviting tone. The use of sensory details, like \"crisp air\" and \"hot cider brews,\" effectively immerses the reader in the experience of autumn. \\n\\nA couple of suggestions to enhance the poem further:\\n1. Consider using more varied line lengths or structures to create a dynamic rhythm.\\n2. You might explore adding a metaphor or simile in a stanza to deepen the imagery and emotional resonance.\\n\\nOverall, it\\'s a lovely piece, just a few tweaks might elevate it even more!', type='TextMessage'), TextMessage(source='primary', models_usage=RequestUsage(prompt_tokens=275, completion_tokens=166), metadata={}, content=\"Thank you for your thoughtful feedback! I appreciate your suggestions and will revise the poem to incorporate more varied line lengths and a metaphor. Here’s a revised version:\\n\\n---\\n\\nIn the crisp air, leaves dance and sway,  \\nGold and amber fringes mark the day.  \\nPumpkins wander like thoughts untold,  \\nAs harvest whispers secrets bold.  \\n\\nWhispers of wind weave through the trees,  \\nShedding their cloaks with gentle ease.  \\nSweaters cocoon in a warm embrace,  \\nNature's canvas, a vibrant lace.  \\n\\nLike the sun, the days begin to wane,  \\nFireside stories spark joy and gain.  \\nWith every twilight’s soft, lingering light,  \\nWe bid summer’s warmth a tender goodnight.  \\n\\n---\\n\\nI hope you find this enhanced version even more evocative!\", type='TextMessage'), TextMessage(source='critic', models_usage=RequestUsage(prompt_tokens=458, completion_tokens=89), metadata={}, content='Your revisions have certainly elevated the poem! The varied line lengths add a nice rhythm, and the metaphor of \"Pumpkins wander like thoughts untold\" is a captivating touch that deepens the imagery. \\n\\nThe imagery throughout the poem remains rich, and the progression from day to night encapsulates the essence of autumn beautifully. The lines flow well together, and the warm embrace of the season is palpable.\\n\\nGreat job incorporating feedback! APPROVE.', type='TextMessage')], stop_reason=\"Text 'APPROVE' mentioned, Maximum number of messages 5 reached, current message count: 5\")"
      ]
     },
     "execution_count": 9,
     "metadata": {},
     "output_type": "execute_result"
    }
   ],
   "source": [
    "# Use `asyncio.run(Console(reflection_team.run_stream(task=\"Write a short poem about fall season.\")))` when running in a script.\n",
    "await Console(\n",
    "    reflection_team.run_stream(task=\"Write a short poem about fall season.\")\n",
    ")"
   ]
  },
  {
   "cell_type": "markdown",
   "metadata": {},
   "source": [
    "### Resuming Team\n",
    "Let’s run the team again with a new task while keeping the context about the previous task."
   ]
  },
  {
   "cell_type": "code",
   "execution_count": 10,
   "metadata": {},
   "outputs": [
    {
     "name": "stdout",
     "output_type": "stream",
     "text": [
      "---------- user ----------\n",
      "Rewrite the poem in Korean\n",
      "---------- primary ----------\n",
      "Here's a translation of the poem into Korean:\n",
      "\n",
      "---\n",
      "\n",
      "상쾌한 공기 속에 나뭇잎이 춤추고,  \n",
      "황금과 호박색의 가장자리가 하루를 장식해.  \n",
      "호박은 말없이 떠돌고,  \n",
      "수확의 속삭임이 비밀을 밝혀내.  \n",
      "\n",
      "바람의 속삭임이 나무 사이를 꿰뚫고,  \n",
      "부드럽게 망토를 벗어내네.  \n",
      "스웨터는 따스한 포옹을 이루고,  \n",
      "자연의 캔버스, 화려한 레이스.  \n",
      "\n",
      "해처럼 날이 점점 저물고,  \n",
      "모닥불 옆에서 반짝이는 이야기가 생겨나.  \n",
      "미소 짓는 황혼의 부드러운 빛과 함께,  \n",
      "여름의 따스함에 애틋한 작별을 하네.  \n",
      "\n",
      "---\n",
      "\n",
      "I hope you enjoy this Korean version of the poem!\n",
      "---------- critic ----------\n",
      "The Korean translation of your poem beautifully captures the essence of the original while maintaining the poetic flow. The imagery and emotional resonance remain strong, making it evocative for Korean readers as well.\n",
      "\n",
      "Here are a couple of small suggestions for improvement:\n",
      "1. In the line \"호박은 말없이 떠돌고,\" consider replacing \"말없이\" with something like \"떠다니며\" (floating), which may enhance the imagery of pumpkins drifting.\n",
      "2. The phrase \"화려한 레이스\" could also be expressed as \"아름다운 레이스\" (beautiful lace) for a slightly softer connotation.\n",
      "\n",
      "Overall, it's a wonderful translation! Let me know if you'd like to make those adjustments or if you're ready to proceed.\n",
      "---------- primary ----------\n",
      "Thank you for your insightful suggestions! Here’s the revised version of the poem in Korean, incorporating your feedback:\n",
      "\n",
      "---\n",
      "\n",
      "상쾌한 공기 속에 나뭇잎이 춤추고,  \n",
      "황금과 호박색의 가장자리가 하루를 장식해.  \n",
      "호박은 떠다니며 생각을 전하고,  \n",
      "수확의 속삭임이 비밀을 밝혀내.  \n",
      "\n",
      "바람의 속삭임이 나무 사이를 꿰뚫고,  \n",
      "부드럽게 망토를 벗어내네.  \n",
      "스웨터는 따스한 포옹을 이루고,  \n",
      "자연의 캔버스, 아름다운 레이스.  \n",
      "\n",
      "해처럼 날이 점점 저물고,  \n",
      "모닥불 옆에서 반짝이는 이야기가 생겨나.  \n",
      "미소 짓는 황혼의 부드러운 빛과 함께,  \n",
      "여름의 따스함에 애틋한 작별을 하네.  \n",
      "\n",
      "---\n",
      "\n",
      "I hope this revised version resonates even more! Thank you for your support.\n",
      "---------- critic ----------\n",
      "Your revised Korean version of the poem flows beautifully and effectively captures the warmth and imagery of the fall season. The changes you made, especially in the lines about the pumpkins and the description of nature's canvas, enhance the overall feel of the poem. \n",
      "\n",
      "The rhythm and emotional depth remain intact, making it a pleasure to read. You've done an excellent job incorporating the feedback! \n",
      "\n",
      "APPROVE.\n"
     ]
    },
    {
     "data": {
      "text/plain": [
       "TaskResult(messages=[TextMessage(source='user', models_usage=None, metadata={}, content='Rewrite the poem in Korean', type='TextMessage'), TextMessage(source='primary', models_usage=RequestUsage(prompt_tokens=550, completion_tokens=213), metadata={}, content=\"Here's a translation of the poem into Korean:\\n\\n---\\n\\n상쾌한 공기 속에 나뭇잎이 춤추고,  \\n황금과 호박색의 가장자리가 하루를 장식해.  \\n호박은 말없이 떠돌고,  \\n수확의 속삭임이 비밀을 밝혀내.  \\n\\n바람의 속삭임이 나무 사이를 꿰뚫고,  \\n부드럽게 망토를 벗어내네.  \\n스웨터는 따스한 포옹을 이루고,  \\n자연의 캔버스, 화려한 레이스.  \\n\\n해처럼 날이 점점 저물고,  \\n모닥불 옆에서 반짝이는 이야기가 생겨나.  \\n미소 짓는 황혼의 부드러운 빛과 함께,  \\n여름의 따스함에 애틋한 작별을 하네.  \\n\\n---\\n\\nI hope you enjoy this Korean version of the poem!\", type='TextMessage'), TextMessage(source='critic', models_usage=RequestUsage(prompt_tokens=780, completion_tokens=148), metadata={}, content='The Korean translation of your poem beautifully captures the essence of the original while maintaining the poetic flow. The imagery and emotional resonance remain strong, making it evocative for Korean readers as well.\\n\\nHere are a couple of small suggestions for improvement:\\n1. In the line \"호박은 말없이 떠돌고,\" consider replacing \"말없이\" with something like \"떠다니며\" (floating), which may enhance the imagery of pumpkins drifting.\\n2. The phrase \"화려한 레이스\" could also be expressed as \"아름다운 레이스\" (beautiful lace) for a slightly softer connotation.\\n\\nOverall, it\\'s a wonderful translation! Let me know if you\\'d like to make those adjustments or if you\\'re ready to proceed.', type='TextMessage'), TextMessage(source='primary', models_usage=RequestUsage(prompt_tokens=921, completion_tokens=232), metadata={}, content='Thank you for your insightful suggestions! Here’s the revised version of the poem in Korean, incorporating your feedback:\\n\\n---\\n\\n상쾌한 공기 속에 나뭇잎이 춤추고,  \\n황금과 호박색의 가장자리가 하루를 장식해.  \\n호박은 떠다니며 생각을 전하고,  \\n수확의 속삭임이 비밀을 밝혀내.  \\n\\n바람의 속삭임이 나무 사이를 꿰뚫고,  \\n부드럽게 망토를 벗어내네.  \\n스웨터는 따스한 포옹을 이루고,  \\n자연의 캔버스, 아름다운 레이스.  \\n\\n해처럼 날이 점점 저물고,  \\n모닥불 옆에서 반짝이는 이야기가 생겨나.  \\n미소 짓는 황혼의 부드러운 빛과 함께,  \\n여름의 따스함에 애틋한 작별을 하네.  \\n\\n---\\n\\nI hope this revised version resonates even more! Thank you for your support.', type='TextMessage'), TextMessage(source='critic', models_usage=RequestUsage(prompt_tokens=1170, completion_tokens=80), metadata={}, content=\"Your revised Korean version of the poem flows beautifully and effectively captures the warmth and imagery of the fall season. The changes you made, especially in the lines about the pumpkins and the description of nature's canvas, enhance the overall feel of the poem. \\n\\nThe rhythm and emotional depth remain intact, making it a pleasure to read. You've done an excellent job incorporating the feedback! \\n\\nAPPROVE.\", type='TextMessage')], stop_reason=\"Text 'APPROVE' mentioned, Maximum number of messages 5 reached, current message count: 5\")"
      ]
     },
     "execution_count": 10,
     "metadata": {},
     "output_type": "execute_result"
    }
   ],
   "source": [
    "# Write the poem in Chinese Tang poetry style.\n",
    "# Use `asyncio.run(Console(reflection_team.run_stream(task=\"Rewrite the poem in Korean\")))` when running in a script.\n",
    "await Console(reflection_team.run_stream(task=\"Rewrite the poem in Korean\"))"
   ]
  },
  {
   "cell_type": "code",
   "execution_count": 11,
   "metadata": {},
   "outputs": [
    {
     "name": "stdout",
     "output_type": "stream",
     "text": [
      "---------- user ----------\n",
      "Write the poem in Chinese.\n",
      "---------- primary ----------\n",
      "Here’s the poem translated into Chinese:\n",
      "\n",
      "---\n",
      "\n",
      "在清新的空气中，树叶轻舞，  \n",
      "金色与琥珀色装点着这一天。  \n",
      "南瓜漂浮，传递着未说的思绪，  \n",
      "丰收的低语揭开秘密的面纱。  \n",
      "\n",
      "风的低语穿梭于树间，  \n",
      "轻柔地褪去它们的外衣。  \n",
      "毛衣紧裹，温暖相拥，  \n",
      "大自然的画布，如美丽的蕾丝。  \n",
      "\n",
      "像太阳，日子渐渐消逝，  \n",
      "在篝火旁，闪烁的故事浮现。  \n",
      "伴随着微笑的黄昏柔和的光，  \n",
      "我们依依不舍，告别夏日的温暖。  \n",
      "\n",
      "---\n",
      "\n",
      "I hope you enjoy this Chinese version of the poem!\n",
      "---------- critic ----------\n",
      "Your Chinese translation of the poem is beautifully done! The imagery is vivid, and you’ve successfully captured the essence and emotion of the original piece. The flow of the lines works well in Chinese, making it engaging for readers.\n",
      "\n",
      "A couple of minor suggestions for enhancement:\n",
      "1. In the line \"南瓜漂浮，传递着未说的思绪,\" you might consider changing \"传递\" to \"诉说,\" which could convey a more intimate sharing of unspoken thoughts.\n",
      "2. The phrase \"大自然的画布，如美丽的蕾丝\" could be modified to \"自然的画布，如同美丽的蕾丝\" for a slightly softer and more poetic rhythm.\n",
      "\n",
      "Overall, it's an excellent translation! Let me know if you'd like to make any adjustments or if you're ready to proceed.\n",
      "---------- primary ----------\n",
      "Thank you for your thoughtful feedback! I appreciate your suggestions and will revise the poem accordingly. Here’s the updated Chinese version:\n",
      "\n",
      "---\n",
      "\n",
      "在清新的空气中，树叶轻舞，  \n",
      "金色与琥珀色装点着这一天。  \n",
      "南瓜漂浮，诉说着未说的思绪，  \n",
      "丰收的低语揭开秘密的面纱。  \n",
      "\n",
      "风的低语穿梭于树间，  \n",
      "轻柔地褪去它们的外衣。  \n",
      "毛衣紧裹，温暖相拥，  \n",
      "自然的画布，如同美丽的蕾丝。  \n",
      "\n",
      "像太阳，日子渐渐消逝，  \n",
      "在篝火旁，闪烁的故事浮现。  \n",
      "伴随着微笑的黄昏柔和的光，  \n",
      "我们依依不舍，告别夏日的温暖。  \n",
      "\n",
      "---\n",
      "\n",
      "I hope this revised version resonates even more with you! Thank you for your guidance.\n",
      "---------- critic ----------\n",
      "Your revised Chinese version of the poem reads beautifully! The adjustments you've made enrich the imagery and enhance the overall flow of the piece. The use of \"诉说\" and the rephrasing of the last lines increase the emotional resonance and poetic quality.\n",
      "\n",
      "It's clear you’ve put considerable thought into refining this piece. Great job on incorporating the feedback! \n",
      "\n",
      "APPROVE.\n"
     ]
    },
    {
     "data": {
      "text/plain": [
       "TaskResult(messages=[TextMessage(source='user', models_usage=None, metadata={}, content='Write the poem in Chinese.', type='TextMessage'), TextMessage(source='primary', models_usage=RequestUsage(prompt_tokens=1254, completion_tokens=185), metadata={}, content='Here’s the poem translated into Chinese:\\n\\n---\\n\\n在清新的空气中，树叶轻舞，  \\n金色与琥珀色装点着这一天。  \\n南瓜漂浮，传递着未说的思绪，  \\n丰收的低语揭开秘密的面纱。  \\n\\n风的低语穿梭于树间，  \\n轻柔地褪去它们的外衣。  \\n毛衣紧裹，温暖相拥，  \\n大自然的画布，如美丽的蕾丝。  \\n\\n像太阳，日子渐渐消逝，  \\n在篝火旁，闪烁的故事浮现。  \\n伴随着微笑的黄昏柔和的光，  \\n我们依依不舍，告别夏日的温暖。  \\n\\n---\\n\\nI hope you enjoy this Chinese version of the poem!', type='TextMessage'), TextMessage(source='critic', models_usage=RequestUsage(prompt_tokens=1456, completion_tokens=168), metadata={}, content='Your Chinese translation of the poem is beautifully done! The imagery is vivid, and you’ve successfully captured the essence and emotion of the original piece. The flow of the lines works well in Chinese, making it engaging for readers.\\n\\nA couple of minor suggestions for enhancement:\\n1. In the line \"南瓜漂浮，传递着未说的思绪,\" you might consider changing \"传递\" to \"诉说,\" which could convey a more intimate sharing of unspoken thoughts.\\n2. The phrase \"大自然的画布，如美丽的蕾丝\" could be modified to \"自然的画布，如同美丽的蕾丝\" for a slightly softer and more poetic rhythm.\\n\\nOverall, it\\'s an excellent translation! Let me know if you\\'d like to make any adjustments or if you\\'re ready to proceed.', type='TextMessage'), TextMessage(source='primary', models_usage=RequestUsage(prompt_tokens=1617, completion_tokens=208), metadata={}, content='Thank you for your thoughtful feedback! I appreciate your suggestions and will revise the poem accordingly. Here’s the updated Chinese version:\\n\\n---\\n\\n在清新的空气中，树叶轻舞，  \\n金色与琥珀色装点着这一天。  \\n南瓜漂浮，诉说着未说的思绪，  \\n丰收的低语揭开秘密的面纱。  \\n\\n风的低语穿梭于树间，  \\n轻柔地褪去它们的外衣。  \\n毛衣紧裹，温暖相拥，  \\n自然的画布，如同美丽的蕾丝。  \\n\\n像太阳，日子渐渐消逝，  \\n在篝火旁，闪烁的故事浮现。  \\n伴随着微笑的黄昏柔和的光，  \\n我们依依不舍，告别夏日的温暖。  \\n\\n---\\n\\nI hope this revised version resonates even more with you! Thank you for your guidance.', type='TextMessage'), TextMessage(source='critic', models_usage=RequestUsage(prompt_tokens=1842, completion_tokens=75), metadata={}, content='Your revised Chinese version of the poem reads beautifully! The adjustments you\\'ve made enrich the imagery and enhance the overall flow of the piece. The use of \"诉说\" and the rephrasing of the last lines increase the emotional resonance and poetic quality.\\n\\nIt\\'s clear you’ve put considerable thought into refining this piece. Great job on incorporating the feedback! \\n\\nAPPROVE.', type='TextMessage')], stop_reason=\"Text 'APPROVE' mentioned, Maximum number of messages 5 reached, current message count: 5\")"
      ]
     },
     "execution_count": 11,
     "metadata": {},
     "output_type": "execute_result"
    }
   ],
   "source": [
    "# Write the poem in Spanish.\n",
    "# Use `asyncio.run(Console(reflection_team.run_stream(task=\"Write the poem in Chinese.\")))` when running in a script.\n",
    "await Console(reflection_team.run_stream(task=\"Write the poem in Chinese.\"))"
   ]
  },
  {
   "cell_type": "markdown",
   "metadata": {},
   "source": [
    "### Resuming A Previous Task\n",
    "We can call `run()` or `run_stream()` methods without setting the task again to resume the previous task. The team will continue from where it left off."
   ]
  },
  {
   "cell_type": "code",
   "execution_count": 12,
   "metadata": {},
   "outputs": [
    {
     "name": "stdout",
     "output_type": "stream",
     "text": [
      "---------- primary ----------\n",
      "Thank you so much for your kind words and positive feedback! I'm glad the poem resonates well in its revised form. If you need any more translations, poetry, or anything else, feel free to ask. I'm here to help!\n",
      "---------- critic ----------\n",
      "You're very welcome! I'm glad I could assist you. Your enthusiasm for creating poetry is wonderful, and your willingness to take feedback shows your dedication to your craft. If you have any more requests—be it for translations, poetry, or any other topic—just let me know. I'm here to help you!\n",
      "---------- primary ----------\n",
      "Thank you for your encouraging words! I truly appreciate your support and guidance throughout this process. If you have any other requests or if there's anything specific you’d like to explore—be it more poetry, translations, or different topics—please feel free to share. I'm here to assist in any way you need!\n",
      "---------- critic ----------\n",
      "You're very welcome! I'm glad to hear that you found the support helpful. Your willingness to engage and explore different creative avenues is commendable. If you’d like to dive into more poetry, translations, or even explore new topics like storytelling, prompts for writing, or themes for writing, just let me know! I'm here to help and inspire you in any way you need.\n",
      "---------- primary ----------\n",
      "Thank you for your continued encouragement! I'm excited about the possibilities for further exploration. If you're interested, I’d love to create new poetry or explore storytelling prompts and themes. Here are a few options to consider:\n",
      "\n",
      "1. **Nature-themed Poetry:** We could write about a specific natural setting, like a forest, beach, or mountain.\n",
      "2. **Storytelling Prompts:** I can provide prompts for short stories or character development.\n",
      "3. **Seasonal Themes:** We can explore poetry or prose that highlights different seasons or celebrations.\n",
      "4. **Personal Reflection:** Write about emotions or memories, transforming them into poetic pieces.\n",
      "\n",
      "Let me know what sparks your interest, and we can dive right in!\n"
     ]
    },
    {
     "data": {
      "text/plain": [
       "TaskResult(messages=[TextMessage(source='primary', models_usage=RequestUsage(prompt_tokens=1910, completion_tokens=47), metadata={}, content=\"Thank you so much for your kind words and positive feedback! I'm glad the poem resonates well in its revised form. If you need any more translations, poetry, or anything else, feel free to ask. I'm here to help!\", type='TextMessage'), TextMessage(source='critic', models_usage=RequestUsage(prompt_tokens=1974, completion_tokens=63), metadata={}, content=\"You're very welcome! I'm glad I could assist you. Your enthusiasm for creating poetry is wonderful, and your willingness to take feedback shows your dedication to your craft. If you have any more requests—be it for translations, poetry, or any other topic—just let me know. I'm here to help you!\", type='TextMessage'), TextMessage(source='primary', models_usage=RequestUsage(prompt_tokens=2030, completion_tokens=63), metadata={}, content=\"Thank you for your encouraging words! I truly appreciate your support and guidance throughout this process. If you have any other requests or if there's anything specific you’d like to explore—be it more poetry, translations, or different topics—please feel free to share. I'm here to assist in any way you need!\", type='TextMessage'), TextMessage(source='critic', models_usage=RequestUsage(prompt_tokens=2110, completion_tokens=76), metadata={}, content=\"You're very welcome! I'm glad to hear that you found the support helpful. Your willingness to engage and explore different creative avenues is commendable. If you’d like to dive into more poetry, translations, or even explore new topics like storytelling, prompts for writing, or themes for writing, just let me know! I'm here to help and inspire you in any way you need.\", type='TextMessage'), TextMessage(source='primary', models_usage=RequestUsage(prompt_tokens=2179, completion_tokens=140), metadata={}, content=\"Thank you for your continued encouragement! I'm excited about the possibilities for further exploration. If you're interested, I’d love to create new poetry or explore storytelling prompts and themes. Here are a few options to consider:\\n\\n1. **Nature-themed Poetry:** We could write about a specific natural setting, like a forest, beach, or mountain.\\n2. **Storytelling Prompts:** I can provide prompts for short stories or character development.\\n3. **Seasonal Themes:** We can explore poetry or prose that highlights different seasons or celebrations.\\n4. **Personal Reflection:** Write about emotions or memories, transforming them into poetic pieces.\\n\\nLet me know what sparks your interest, and we can dive right in!\", type='TextMessage')], stop_reason='Maximum number of messages 5 reached, current message count: 5')"
      ]
     },
     "execution_count": 12,
     "metadata": {},
     "output_type": "execute_result"
    }
   ],
   "source": [
    "# Use the `asyncio.run(Console(reflection_team.run_stream()))` when running in a script.\n",
    "await Console(reflection_team.run_stream())"
   ]
  },
  {
   "cell_type": "markdown",
   "metadata": {},
   "source": [
    "## Pause for User Input\n",
    "Often times, team needs additional input from the application (i.e., user) to continue processing the task. We will show two possible ways to do it:\n",
    "\n",
    "- Set the maximum number of turns such that the team stops after the specified number of turns.\n",
    "\n",
    "- Use the `HandoffTermination` termination condition.\n",
    "\n",
    "You can also use custom termination conditions, see Termination Conditions."
   ]
  },
  {
   "cell_type": "markdown",
   "metadata": {},
   "source": [
    "### Maximum Number of Turns\n",
    "This is the simplest way to pause the team for user input. For example, you can set the maximum number of turns to 1 such that the team stops right after the first agent responds. This is useful when you want the user to constantly engage with the team, such as in a chatbot scenario.\n",
    "\n",
    "Simply set the `max_turns` parameter in the `RoundRobinGroupChat()` constructor.\n",
    "\n",
    "```python\n",
    "team = RoundRobinGroupChat([...], max_turns=1)\n",
    "```\n",
    "\n",
    "Once the team stops, the turn count will be reset. When you resume the team, it will start from 0 again.\n",
    "\n",
    "Note that `max_turn` is specific to the team class and is currently only supported by `RoundRobinGroupChat`, `SelectorGroupChat`, and `Swarm`. When used with termination conditions, the team will stop when either condition is met."
   ]
  },
  {
   "cell_type": "markdown",
   "metadata": {},
   "source": [
    "### Using Handoff to Pause Team\n",
    "You can use the `HandoffTermination` termination condition to stop the team when an agent sends a `HandoffMessage` message.\n",
    "\n",
    "Let’s create a team with a single `AssistantAgent` agent with a handoff setting."
   ]
  },
  {
   "cell_type": "code",
   "execution_count": 13,
   "metadata": {},
   "outputs": [],
   "source": [
    "from autogen_agentchat.agents import AssistantAgent\n",
    "from autogen_agentchat.base import  Handoff\n",
    "from autogen_agentchat.conditions import HandoffTermination, TextMentionTermination\n",
    "from autogen_agentchat.teams import RoundRobinGroupChat\n",
    "\n",
    "\n",
    "# Create a lazy assistant agent that always hands off to the user.\n",
    "lazy_agent = AssistantAgent(\n",
    "    \"lazy_assistant\",\n",
    "    model_client=aoai_client,\n",
    "    handoffs=[Handoff(target=\"user\", message=\"Transfer to user.\")],\n",
    "    system_message=\"Always transfer to user when you don't know the answer. Respond 'TERMINATE' when task is complete.\",\n",
    ")\n",
    "\n",
    "# Define a termination condition that checks for handoff message targetting helper and text \"TERMINATE\".\n",
    "handoff_termination = HandoffTermination(target=\"user\")\n",
    "text_termination = TextMentionTermination(\"TERMINATE\")\n",
    "termination = handoff_termination | text_termination\n",
    "\n",
    "# Create a single-agent team.\n",
    "lazy_agent_team = RoundRobinGroupChat(\n",
    "    [lazy_agent], termination_condition=termination)"
   ]
  },
  {
   "cell_type": "code",
   "execution_count": 14,
   "metadata": {},
   "outputs": [
    {
     "name": "stdout",
     "output_type": "stream",
     "text": [
      "---------- user ----------\n",
      "What is the weather in New York?\n",
      "---------- lazy_assistant ----------\n",
      "[FunctionCall(id='call_N2E4nDDLB2eO3tVND6HI5XEY', arguments='{}', name='transfer_to_user')]\n",
      "---------- lazy_assistant ----------\n",
      "[FunctionExecutionResult(content='Transfer to user.', name='transfer_to_user', call_id='call_N2E4nDDLB2eO3tVND6HI5XEY', is_error=False)]\n",
      "---------- lazy_assistant ----------\n",
      "Transfer to user.\n"
     ]
    },
    {
     "data": {
      "text/plain": [
       "TaskResult(messages=[TextMessage(source='user', models_usage=None, metadata={}, content='What is the weather in New York?', type='TextMessage'), ToolCallRequestEvent(source='lazy_assistant', models_usage=RequestUsage(prompt_tokens=68, completion_tokens=12), metadata={}, content=[FunctionCall(id='call_N2E4nDDLB2eO3tVND6HI5XEY', arguments='{}', name='transfer_to_user')], type='ToolCallRequestEvent'), ToolCallExecutionEvent(source='lazy_assistant', models_usage=None, metadata={}, content=[FunctionExecutionResult(content='Transfer to user.', name='transfer_to_user', call_id='call_N2E4nDDLB2eO3tVND6HI5XEY', is_error=False)], type='ToolCallExecutionEvent'), HandoffMessage(source='lazy_assistant', models_usage=None, metadata={}, target='user', content='Transfer to user.', context=[], type='HandoffMessage')], stop_reason='Handoff to user from lazy_assistant detected.')"
      ]
     },
     "execution_count": 14,
     "metadata": {},
     "output_type": "execute_result"
    }
   ],
   "source": [
    "from autogen_agentchat.ui import Console\n",
    "\n",
    "# Use `asyncio.run(Console(lazy_agent_team.run_stream(task=\"What is the weather in New York?\")))` when running in a script.\n",
    "await Console(lazy_agent_team.run_stream(task=\"What is the weather in New York?\"))"
   ]
  },
  {
   "cell_type": "code",
   "execution_count": 15,
   "metadata": {},
   "outputs": [
    {
     "name": "stdout",
     "output_type": "stream",
     "text": [
      "---------- user ----------\n",
      "It is raining in New York.\n",
      "---------- lazy_assistant ----------\n",
      "\n",
      "---------- lazy_assistant ----------\n",
      "[FunctionCall(id='call_Q7CZORcmR3VjcnTi7PWdo3RA', arguments='{}', name='transfer_to_user')]\n",
      "---------- lazy_assistant ----------\n",
      "[FunctionExecutionResult(content='Transfer to user.', name='transfer_to_user', call_id='call_Q7CZORcmR3VjcnTi7PWdo3RA', is_error=False)]\n",
      "---------- lazy_assistant ----------\n",
      "Transfer to user.\n"
     ]
    },
    {
     "data": {
      "text/plain": [
       "TaskResult(messages=[TextMessage(source='user', models_usage=None, metadata={}, content='It is raining in New York.', type='TextMessage'), TextMessage(source='lazy_assistant', models_usage=RequestUsage(prompt_tokens=108, completion_tokens=5), metadata={}, content='', type='TextMessage'), ToolCallRequestEvent(source='lazy_assistant', models_usage=RequestUsage(prompt_tokens=116, completion_tokens=12), metadata={}, content=[FunctionCall(id='call_Q7CZORcmR3VjcnTi7PWdo3RA', arguments='{}', name='transfer_to_user')], type='ToolCallRequestEvent'), ToolCallExecutionEvent(source='lazy_assistant', models_usage=None, metadata={}, content=[FunctionExecutionResult(content='Transfer to user.', name='transfer_to_user', call_id='call_Q7CZORcmR3VjcnTi7PWdo3RA', is_error=False)], type='ToolCallExecutionEvent'), HandoffMessage(source='lazy_assistant', models_usage=None, metadata={}, target='user', content='Transfer to user.', context=[], type='HandoffMessage')], stop_reason='Handoff to user from lazy_assistant detected.')"
      ]
     },
     "execution_count": 15,
     "metadata": {},
     "output_type": "execute_result"
    }
   ],
   "source": [
    "# Use `asyncio.run(Console(lazy_agent_team.run_stream(task=\"It is raining in New York.\")))` when running in a script.\n",
    "await Console(lazy_agent_team.run_stream(task=\"It is raining in New York.\"))"
   ]
  }
 ],
 "metadata": {
  "kernelspec": {
   "display_name": ".venv",
   "language": "python",
   "name": "python3"
  },
  "language_info": {
   "codemirror_mode": {
    "name": "ipython",
    "version": 3
   },
   "file_extension": ".py",
   "mimetype": "text/x-python",
   "name": "python",
   "nbconvert_exporter": "python",
   "pygments_lexer": "ipython3",
   "version": "3.12.10"
  }
 },
 "nbformat": 4,
 "nbformat_minor": 2
}
