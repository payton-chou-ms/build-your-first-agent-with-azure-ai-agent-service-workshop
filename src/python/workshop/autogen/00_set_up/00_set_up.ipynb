{
 "cells": [
  {
   "cell_type": "markdown",
   "metadata": {
    "vscode": {
     "languageId": "plaintext"
    }
   },
   "source": [
    "## Environment Set-Up\n",
    "Setting up a virtual environment is a crucial step in managing your Python project's dependencies effectively. \n",
    "\n",
    "###  1. Create a Virtual Environment\n",
    "Please use Python 3.11 version for the workshop.\n",
    "\n",
    "Run the following command to create a virtual environment in your project directory. \n",
    "\n",
    "Replace `.venv` with your desired name for the virtual environment folder if needed:\n",
    "\n",
    "`python -m venv .venv`\n",
    "\n",
    "\n",
    "###  2. Activate the Virtual Environment\n",
    "Activate the virtual environment using the appropriate command for your operating system:\n",
    "- On Linux/macOS:\n",
    "\n",
    "    `source .venv/bin/activate`\n",
    "    \n",
    "- On Windows (Command Prompt)\n",
    "\n",
    "    `.venv\\Scripts\\activate\n",
    "`\n",
    "\n",
    "- On Windows (PowerShell):\n",
    "\n",
    "    `.venv\\Scripts\\Activate.ps1`\n",
    "\n",
    "###  3. Upgrade `pip`\n",
    "After activating the virtual environment, upgrade `pip` to ensure you have the latest version:\n",
    "\n",
    "`pip install --upgrade pip`\n",
    "\n",
    "###  4. Install Project Dependencies\n",
    "Use `pip` to install all the required dependencies for the project as specified in the `requirements.txt` file:\n",
    "\n",
    "`pip install -r requirements.txt`\n",
    "\n",
    "###  5. Install Azure CLI SDK\n",
    "To install the Azure CLI SDK, please visit: https://learn.microsoft.com/en-us/cli/azure/install-azure-cli\n",
    "\n",
    "### 6. Log in to Azure\n",
    "Run the following command to log in to Azure:\n",
    "`az login`"
   ]
  },
  {
   "cell_type": "code",
   "execution_count": 1,
   "metadata": {},
   "outputs": [
    {
     "name": "stdout",
     "output_type": "stream",
     "text": [
      "[\n",
      "  {\n",
      "    \"cloudName\": \"AzureCloud\",\n",
      "    \"homeTenantId\": \"16b3c013-d300-468d-ac64-7eda0820b6d3\",\n",
      "    \"id\": \"0d2b1581-2cd0-4fd6-a6c9-ae90cb412e9d\",\n",
      "    \"isDefault\": true,\n",
      "    \"managedByTenants\": [\n",
      "      {\n",
      "        \"tenantId\": \"72f988bf-86f1-41af-91ab-2d7cd011db47\"\n",
      "      }\n",
      "    ],\n",
      "    \"name\": \"MTC Payton\",\n",
      "    \"state\": \"Enabled\",\n",
      "    \"tenantId\": \"16b3c013-d300-468d-ac64-7eda0820b6d3\",\n",
      "    \"user\": {\n",
      "      \"name\": \"chihengchou@microsoft.com\",\n",
      "      \"type\": \"user\"\n",
      "    }\n",
      "  },\n",
      "  {\n",
      "    \"cloudName\": \"AzureCloud\",\n",
      "    \"homeTenantId\": \"16b3c013-d300-468d-ac64-7eda0820b6d3\",\n",
      "    \"id\": \"3623e1dd-e8ef-44d7-8770-cfaa38450575\",\n",
      "    \"isDefault\": false,\n",
      "    \"managedByTenants\": [\n",
      "      {\n",
      "        \"tenantId\": \"72f988bf-86f1-41af-91ab-2d7cd011db47\"\n",
      "      }\n",
      "    ],\n",
      "    \"name\": \"DT AIA Subscription\",\n",
      "    \"state\": \"Enabled\",\n",
      "    \"tenantId\": \"16b3c013-d300-468d-ac64-7eda0820b6d3\",\n",
      "    \"user\": {\n",
      "      \"name\": \"chihengchou@microsoft.com\",\n",
      "      \"type\": \"user\"\n",
      "    }\n",
      "  }\n",
      "]\n"
     ]
    },
    {
     "name": "stderr",
     "output_type": "stream",
     "text": [
      "WARNING: Select the account you want to log in with. For more information on login with Azure CLI, see https://go.microsoft.com/fwlink/?linkid=2271136\n"
     ]
    }
   ],
   "source": [
    "from dotenv import load_dotenv\n",
    "import os\n",
    "\n",
    "# Load environment variables from .env file\n",
    "load_dotenv()\n",
    "\n",
    "# Get tenant ID and subscription ID from environment variables\n",
    "tenant_id = os.getenv(\"AZURE_TENANT_ID\")\n",
    "subscription_id = os.getenv(\"AZURE_SUBSCRIPTION_ID\")\n",
    "\n",
    "if not tenant_id or not subscription_id:\n",
    "    raise ValueError(\"AZURE_TENANT_ID or AZURE_SUBSCRIPTION_ID is not set in the .env file.\")\n",
    "\n",
    "# Use the tenant ID and subscription ID to log in and set the subscription context\n",
    "! az login --tenant \"{tenant_id}\"\n",
    "! az account set --subscription \"{subscription_id}\""
   ]
  },
  {
   "cell_type": "markdown",
   "metadata": {},
   "source": [
    "## Create a project in Azure AI Foundry\n",
    "\n",
    "1. Follow the guidelines in this article (https://learn.microsoft.com/en-us/azure/ai-studio/how-to/create-projects?tabs=ai-studio). If you don't have them already, make sure to create new AI services and AI Search resources.\n",
    "\n",
    "   <Image src='docs/create_project_in_azure_ai_foundry.png'>\n",
    "\n",
    "\n",
    "2. **Obtain the Connection String**  \n",
    "   Copy the connection string from your AI Studio project. It should follow this format: `eastus.api.azureml.ms;12345678-abcd-1234-9fc6-62780b3d3e05;my-resource-group;my-project-name`\n",
    "   - Ref: You can find the connection string in the Azure AI Foundry project settings\n",
    "     - https://learn.microsoft.com/en-us/azure/ai-foundry/media/how-to/projects/project-settings.png#lightbox\n",
    "\n",
    "3. **Deploy gpt-4o-mini model**  \n",
    "   In the `Models + Endpoints` section, deploy a gpt-4o-mini model with the deoloyment name as \"gpt-4o-mini\".\n",
    "   - Note: When trying to create an Enterprise Agent in existing AI Project, if you get \"Enterprise agents is only supported when project has 1 Azure Open AI connection\"\n",
    "   - Please refer to the following issue for more details:\n",
    "     - https://github.com/Azure/azure-sdk-for-python/issues/38921\n",
    "\n",
    "4. **Set Environment Variables**  \n",
    "Ensure you set the required environment variables in `.env` file."
   ]
  },
  {
   "cell_type": "markdown",
   "metadata": {},
   "source": [
    "## (Optional) Create a TimeGEN endpoint\n",
    "\n",
    "1. **Find TimeGEN model in Model Catalog**\n",
    "\n",
    "   <Image src='docs/time_gen_1.png'>\n",
    "\n",
    "\n",
    "2. **Create an endpoint**  \n",
    "   \n",
    "   <Image src='docs/time_gen_2.png'>\n",
    "\n",
    "3. **Set Environment Variables**  \n",
    "Save endpoint and key variables in `.env` file."
   ]
  },
  {
   "cell_type": "code",
   "execution_count": 2,
   "metadata": {},
   "outputs": [
    {
     "name": "stdout",
     "output_type": "stream",
     "text": [
      "gpt-4o-mini\n"
     ]
    }
   ],
   "source": [
    "# load environment variables from the .env file\n",
    "import os\n",
    "from dotenv import load_dotenv\n",
    "\n",
    "load_dotenv()\n",
    "print(os.getenv('CHAT_MODEL'))"
   ]
  },
  {
   "cell_type": "code",
   "execution_count": 3,
   "metadata": {},
   "outputs": [
    {
     "name": "stdout",
     "output_type": "stream",
     "text": [
      "{\n",
      " \"name\": \"payton-demo-aoai\",\n",
      " \"id\": \"/subscriptions/0d2b1581-2cd0-4fd6-a6c9-ae90cb412e9d/resourceGroups/lab-multiagent-workshop/providers/Microsoft.MachineLearningServices/workspaces/my-project-1/connections/payton-demo-aoai\",\n",
      " \"authentication_type\": \"ApiKey\",\n",
      " \"connection_type\": \"OpenAI\",\n",
      " \"endpoint_url\": \"https://payton-demo-aoai.openai.azure.com\",\n",
      " \"key\": null\n",
      " \"token_credential\": null\n",
      "}\n",
      "\n",
      "{\n",
      " \"name\": \"paytondemoaoai\",\n",
      " \"id\": \"/subscriptions/0d2b1581-2cd0-4fd6-a6c9-ae90cb412e9d/resourceGroups/lab-multiagent-workshop/providers/Microsoft.MachineLearningServices/workspaces/my-project-1/connections/paytondemoaoai\",\n",
      " \"authentication_type\": \"ApiKey\",\n",
      " \"connection_type\": \"ConnectionType.AZURE_OPEN_AI\",\n",
      " \"endpoint_url\": \"https://payton-demo-aoai.openai.azure.com\",\n",
      " \"key\": null\n",
      " \"token_credential\": null\n",
      "}\n",
      "\n",
      "{\n",
      " \"name\": \"cogsearchooyot5t3tlooo\",\n",
      " \"id\": \"/subscriptions/0d2b1581-2cd0-4fd6-a6c9-ae90cb412e9d/resourceGroups/lab-multiagent-workshop/providers/Microsoft.MachineLearningServices/workspaces/my-project-1/connections/cogsearchooyot5t3tlooo\",\n",
      " \"authentication_type\": \"ApiKey\",\n",
      " \"connection_type\": \"ConnectionType.AZURE_AI_SEARCH\",\n",
      " \"endpoint_url\": \"https://cog-search-ooyot5t3tlooo.search.windows.net\",\n",
      " \"key\": null\n",
      " \"token_credential\": null\n",
      "}\n",
      "\n",
      "{\n",
      " \"name\": \"cognitiveserviceooyot5t3tlooo\",\n",
      " \"id\": \"/subscriptions/0d2b1581-2cd0-4fd6-a6c9-ae90cb412e9d/resourceGroups/lab-multiagent-workshop/providers/Microsoft.MachineLearningServices/workspaces/my-project-1/connections/cognitiveserviceooyot5t3tlooo\",\n",
      " \"authentication_type\": \"ApiKey\",\n",
      " \"connection_type\": \"ConnectionType.COGNITIVE_SERVICE\",\n",
      " \"endpoint_url\": \"https://eastus.api.cognitive.microsoft.com\",\n",
      " \"key\": null\n",
      " \"token_credential\": null\n",
      "}\n",
      "\n",
      "{\n",
      " \"name\": \"aiazureaidemoaoaigpt4v282782440710_aoai\",\n",
      " \"id\": \"/subscriptions/0d2b1581-2cd0-4fd6-a6c9-ae90cb412e9d/resourceGroups/lab-multiagent-workshop/providers/Microsoft.MachineLearningServices/workspaces/my-project-1/connections/aiazureaidemoaoaigpt4v282782440710_aoai\",\n",
      " \"authentication_type\": \"ApiKey\",\n",
      " \"connection_type\": \"ConnectionType.AZURE_OPEN_AI\",\n",
      " \"endpoint_url\": \"https://ai-azureaidemoaoaigpt4v282782440710.openai.azure.com\",\n",
      " \"key\": null\n",
      " \"token_credential\": null\n",
      "}\n",
      "\n",
      "{\n",
      " \"name\": \"aiazureaidemoaoaigpt4v282782440710\",\n",
      " \"id\": \"/subscriptions/0d2b1581-2cd0-4fd6-a6c9-ae90cb412e9d/resourceGroups/lab-multiagent-workshop/providers/Microsoft.MachineLearningServices/workspaces/my-project-1/connections/aiazureaidemoaoaigpt4v282782440710\",\n",
      " \"authentication_type\": \"ApiKey\",\n",
      " \"connection_type\": \"ConnectionType.AZURE_AI_SERVICES\",\n",
      " \"endpoint_url\": \"https://ai-azureaidemoaoaigpt4v282782440710.cognitiveservices.azure.com\",\n",
      " \"key\": null\n",
      " \"token_credential\": null\n",
      "}\n",
      "\n",
      "{\n",
      " \"name\": \"wucontentunderstanding_aoai\",\n",
      " \"id\": \"/subscriptions/0d2b1581-2cd0-4fd6-a6c9-ae90cb412e9d/resourceGroups/lab-multiagent-workshop/providers/Microsoft.MachineLearningServices/workspaces/my-project-1/connections/wucontentunderstanding_aoai\",\n",
      " \"authentication_type\": \"ApiKey\",\n",
      " \"connection_type\": \"ConnectionType.AZURE_OPEN_AI\",\n",
      " \"endpoint_url\": \"https://wu-content-understanding.openai.azure.com\",\n",
      " \"key\": null\n",
      " \"token_credential\": null\n",
      "}\n",
      "\n",
      "{\n",
      " \"name\": \"wucontentunderstanding\",\n",
      " \"id\": \"/subscriptions/0d2b1581-2cd0-4fd6-a6c9-ae90cb412e9d/resourceGroups/lab-multiagent-workshop/providers/Microsoft.MachineLearningServices/workspaces/my-project-1/connections/wucontentunderstanding\",\n",
      " \"authentication_type\": \"ApiKey\",\n",
      " \"connection_type\": \"ConnectionType.AZURE_AI_SERVICES\",\n",
      " \"endpoint_url\": \"https://wu-content-understanding.cognitiveservices.azure.com\",\n",
      " \"key\": null\n",
      " \"token_credential\": null\n",
      "}\n",
      "\n",
      "{\n",
      " \"name\": \"mtcpaytonwus2\",\n",
      " \"id\": \"/subscriptions/0d2b1581-2cd0-4fd6-a6c9-ae90cb412e9d/resourceGroups/lab-multiagent-workshop/providers/Microsoft.MachineLearningServices/workspaces/my-project-1/connections/mtcpaytonwus2\",\n",
      " \"authentication_type\": \"ApiKey\",\n",
      " \"connection_type\": \"ConnectionType.COGNITIVE_SERVICE\",\n",
      " \"endpoint_url\": \"https://westus2.api.cognitive.microsoft.com\",\n",
      " \"key\": null\n",
      " \"token_credential\": null\n",
      "}\n",
      "\n",
      "{\n",
      " \"name\": \"paytoncnvsoutheastasia\",\n",
      " \"id\": \"/subscriptions/0d2b1581-2cd0-4fd6-a6c9-ae90cb412e9d/resourceGroups/lab-multiagent-workshop/providers/Microsoft.MachineLearningServices/workspaces/my-project-1/connections/paytoncnvsoutheastasia\",\n",
      " \"authentication_type\": \"ApiKey\",\n",
      " \"connection_type\": \"ConnectionType.COGNITIVE_SERVICE\",\n",
      " \"endpoint_url\": \"https://southeastasia.api.cognitive.microsoft.com\",\n",
      " \"key\": null\n",
      " \"token_credential\": null\n",
      "}\n",
      "\n",
      "{\n",
      " \"name\": \"mtcpaytonspeech\",\n",
      " \"id\": \"/subscriptions/0d2b1581-2cd0-4fd6-a6c9-ae90cb412e9d/resourceGroups/lab-multiagent-workshop/providers/Microsoft.MachineLearningServices/workspaces/my-project-1/connections/mtcpaytonspeech\",\n",
      " \"authentication_type\": \"ApiKey\",\n",
      " \"connection_type\": \"ConnectionType.COGNITIVE_SERVICE\",\n",
      " \"endpoint_url\": \"https://eastus.api.cognitive.microsoft.com\",\n",
      " \"key\": null\n",
      " \"token_credential\": null\n",
      "}\n",
      "\n",
      "{\n",
      " \"name\": \"demo-aoai-gpt4-turbo\",\n",
      " \"id\": \"/subscriptions/0d2b1581-2cd0-4fd6-a6c9-ae90cb412e9d/resourceGroups/lab-multiagent-workshop/providers/Microsoft.MachineLearningServices/workspaces/my-project-1/connections/demo-aoai-gpt4-turbo\",\n",
      " \"authentication_type\": \"ApiKey\",\n",
      " \"connection_type\": \"ConnectionType.AZURE_OPEN_AI\",\n",
      " \"endpoint_url\": \"https://demo-aoai-gpt4-turbo.openai.azure.com\",\n",
      " \"key\": null\n",
      " \"token_credential\": null\n",
      "}\n",
      "\n",
      "{\n",
      " \"name\": \"groundingwithbingsearch\",\n",
      " \"id\": \"/subscriptions/0d2b1581-2cd0-4fd6-a6c9-ae90cb412e9d/resourceGroups/lab-multiagent-workshop/providers/Microsoft.MachineLearningServices/workspaces/my-project-1/connections/groundingwithbingsearch\",\n",
      " \"authentication_type\": \"ApiKey\",\n",
      " \"connection_type\": \"ConnectionType.API_KEY\",\n",
      " \"endpoint_url\": \"https://api.bing.microsoft.com\",\n",
      " \"key\": null\n",
      " \"token_credential\": null\n",
      "}\n",
      "\n",
      "{\n",
      " \"name\": \"my-project-1/workspaceartifactstore\",\n",
      " \"id\": \"/subscriptions/0d2b1581-2cd0-4fd6-a6c9-ae90cb412e9d/resourceGroups/lab-multiagent-workshop/providers/Microsoft.MachineLearningServices/workspaces/my-project-1/connections/my-project-1/workspaceartifactstore\",\n",
      " \"authentication_type\": \"SAS\",\n",
      " \"connection_type\": \"ConnectionType.AZURE_BLOB_STORAGE\",\n",
      " \"endpoint_url\": \"https://labmultiagentp1891946346.core.windows.net/d6dae07a-1881-417b-8437-50634386d875-azureml\",\n",
      " \"key\": null\n",
      " \"token_credential\": null\n",
      "}\n",
      "\n",
      "{\n",
      " \"name\": \"my-project-1/workspaceblobstore\",\n",
      " \"id\": \"/subscriptions/0d2b1581-2cd0-4fd6-a6c9-ae90cb412e9d/resourceGroups/lab-multiagent-workshop/providers/Microsoft.MachineLearningServices/workspaces/my-project-1/connections/my-project-1/workspaceblobstore\",\n",
      " \"authentication_type\": \"SAS\",\n",
      " \"connection_type\": \"ConnectionType.AZURE_BLOB_STORAGE\",\n",
      " \"endpoint_url\": \"https://labmultiagentp1891946346.core.windows.net/d6dae07a-1881-417b-8437-50634386d875-azureml-blobstore\",\n",
      " \"key\": null\n",
      " \"token_credential\": null\n",
      "}\n",
      "\n"
     ]
    }
   ],
   "source": [
    "import os\n",
    "from azure.ai.projects import AIProjectClient\n",
    "from azure.identity import DefaultAzureCredential\n",
    "\n",
    "load_dotenv()\n",
    "\n",
    "# Print the connection string\n",
    "# print(\"Connection String:\", os.environ.get(\"AIPROJECT_CONNECTION_STRING\"))\n",
    "\n",
    "project_client = AIProjectClient.from_connection_string(\n",
    "    credential=DefaultAzureCredential(), conn_str=os.environ[\"AIPROJECT_CONNECTION_STRING\"]\n",
    ")\n",
    "\n",
    "connections = project_client.connections.list()\n",
    "for connection in connections:\n",
    "    print(connection)"
   ]
  },
  {
   "cell_type": "code",
   "execution_count": 4,
   "metadata": {},
   "outputs": [
    {
     "name": "stdout",
     "output_type": "stream",
     "text": [
      "{\n",
      " \"name\": \"paytondemoaoai\",\n",
      " \"id\": \"/subscriptions/0d2b1581-2cd0-4fd6-a6c9-ae90cb412e9d/resourceGroups/lab-multiagent-workshop/providers/Microsoft.MachineLearningServices/workspaces/my-project-1/connections/paytondemoaoai\",\n",
      " \"authentication_type\": \"ApiKey\",\n",
      " \"connection_type\": \"ConnectionType.AZURE_OPEN_AI\",\n",
      " \"endpoint_url\": \"https://payton-demo-aoai.openai.azure.com\",\n",
      " \"key\": null\n",
      " \"token_credential\": null\n",
      "}\n",
      "\n",
      "{\n",
      " \"name\": \"aiazureaidemoaoaigpt4v282782440710_aoai\",\n",
      " \"id\": \"/subscriptions/0d2b1581-2cd0-4fd6-a6c9-ae90cb412e9d/resourceGroups/lab-multiagent-workshop/providers/Microsoft.MachineLearningServices/workspaces/my-project-1/connections/aiazureaidemoaoaigpt4v282782440710_aoai\",\n",
      " \"authentication_type\": \"ApiKey\",\n",
      " \"connection_type\": \"ConnectionType.AZURE_OPEN_AI\",\n",
      " \"endpoint_url\": \"https://ai-azureaidemoaoaigpt4v282782440710.openai.azure.com\",\n",
      " \"key\": null\n",
      " \"token_credential\": null\n",
      "}\n",
      "\n",
      "{\n",
      " \"name\": \"wucontentunderstanding_aoai\",\n",
      " \"id\": \"/subscriptions/0d2b1581-2cd0-4fd6-a6c9-ae90cb412e9d/resourceGroups/lab-multiagent-workshop/providers/Microsoft.MachineLearningServices/workspaces/my-project-1/connections/wucontentunderstanding_aoai\",\n",
      " \"authentication_type\": \"ApiKey\",\n",
      " \"connection_type\": \"ConnectionType.AZURE_OPEN_AI\",\n",
      " \"endpoint_url\": \"https://wu-content-understanding.openai.azure.com\",\n",
      " \"key\": null\n",
      " \"token_credential\": null\n",
      "}\n",
      "\n",
      "{\n",
      " \"name\": \"demo-aoai-gpt4-turbo\",\n",
      " \"id\": \"/subscriptions/0d2b1581-2cd0-4fd6-a6c9-ae90cb412e9d/resourceGroups/lab-multiagent-workshop/providers/Microsoft.MachineLearningServices/workspaces/my-project-1/connections/demo-aoai-gpt4-turbo\",\n",
      " \"authentication_type\": \"ApiKey\",\n",
      " \"connection_type\": \"ConnectionType.AZURE_OPEN_AI\",\n",
      " \"endpoint_url\": \"https://demo-aoai-gpt4-turbo.openai.azure.com\",\n",
      " \"key\": null\n",
      " \"token_credential\": null\n",
      "}\n",
      "\n"
     ]
    }
   ],
   "source": [
    "from azure.ai.projects.models import ConnectionType\n",
    "\n",
    "connections = project_client.connections.list(\n",
    "    connection_type=ConnectionType.AZURE_OPEN_AI,\n",
    ")\n",
    "for connection in connections:\n",
    "    print(connection)"
   ]
  },
  {
   "cell_type": "code",
   "execution_count": 5,
   "metadata": {},
   "outputs": [
    {
     "name": "stdout",
     "output_type": "stream",
     "text": [
      "There are 5,280 feet in a mile.\n"
     ]
    }
   ],
   "source": [
    "aoai_client = project_client.inference.get_azure_openai_client(\n",
    "    api_version=\"2024-06-01\")\n",
    "\n",
    "response = aoai_client.chat.completions.create(\n",
    "    model=os.environ[\"CHAT_MODEL\"],  # Model deployment name\n",
    "    messages=[\n",
    "        {\n",
    "            \"role\": \"user\",\n",
    "            \"content\": \"How many feet are in a mile?\",\n",
    "        },\n",
    "    ],\n",
    ")\n",
    "\n",
    "print(response.choices[0].message.content)"
   ]
  },
  {
   "cell_type": "markdown",
   "metadata": {},
   "source": [
    "# List all agents"
   ]
  },
  {
   "cell_type": "code",
   "execution_count": 6,
   "metadata": {},
   "outputs": [
    {
     "name": "stdout",
     "output_type": "stream",
     "text": [
      "{'id': 'asst_hwOLZmmPTfcnPOI8XhY6ZE6R', 'object': 'assistant', 'created_at': 1745026947, 'name': 'advanced-legal-cases-agent-202504190942', 'description': None, 'model': 'gpt-4o', 'instructions': '\\n            You are a helpful legal assistant that can retrieve information about legal cases. \\n            The current date is 2025-04-19.\\n            ', 'tools': [{'type': 'function', 'function': {'name': 'vector_search_cases', 'description': 'Fetches the cases information in Washington State for the specified query.', 'parameters': {'type': 'object', 'properties': {'vector_search_query': {'type': 'string', 'description': 'No description'}, 'start_date': {'type': 'string', 'description': 'The start date for the search, defaults to \"1911-01-01\"'}, 'end_date': {'type': 'string', 'description': 'The end date for the search, defaults to \"2025-12-31\"'}, 'limit': {'type': 'integer', 'description': 'The maximum number of cases to fetch, defaults to 10'}}, 'required': ['vector_search_query']}, 'strict': False}}, {'type': 'function', 'function': {'name': 'count_cases', 'description': 'Count the number of cases related to the specified query.', 'parameters': {'type': 'object', 'properties': {'vector_search_query': {'type': 'string', 'description': 'No description'}, 'limit': {'type': 'integer', 'description': 'The maximum number of cases fetch, defaults to 10'}}, 'required': ['vector_search_query']}, 'strict': False}}], 'top_p': 1.0, 'temperature': 1.0, 'tool_resources': {}, 'metadata': {}, 'response_format': 'auto'}\n",
      "{'id': 'asst_2y1iWbYokOkFvi9eUVc0ZumH', 'object': 'assistant', 'created_at': 1745026672, 'name': 'legal-cases-agent-202504190937', 'description': 'Legal Cases Agent', 'model': 'gpt-4o', 'instructions': '\\n    You are a helpful legal assistant that can retrieve information about legal cases. \\n    The current date is 2025-04-19.\\n    ', 'tools': [{'type': 'function', 'function': {'name': 'count_cases', 'description': 'Count the number of cases related to the specified query.', 'parameters': {'type': 'object', 'properties': {'vector_search_query': {'type': 'string', 'description': 'No description'}, 'limit': {'type': 'integer', 'description': 'The maximum number of cases fetch, defaults to 10'}}, 'required': ['vector_search_query']}, 'strict': False}}, {'type': 'function', 'function': {'name': 'vector_search_cases', 'description': 'Fetches the cases information in Washington State for the specified query.', 'parameters': {'type': 'object', 'properties': {'vector_search_query': {'type': 'string', 'description': 'No description'}, 'start_date': {'type': 'string', 'description': 'The start date for the search, defaults to \"1911-01-01\"'}, 'end_date': {'type': 'string', 'description': 'The end date for the search, defaults to \"2025-12-31\"'}, 'limit': {'type': 'integer', 'description': 'The maximum number of cases to fetch, defaults to 10'}}, 'required': ['vector_search_query']}, 'strict': False}}], 'top_p': 1.0, 'temperature': 1.0, 'tool_resources': {}, 'metadata': {}, 'response_format': 'auto'}\n",
      "{'id': 'asst_0dPB3oQOfnen0hFRaV2ERv15', 'object': 'assistant', 'created_at': 1745026524, 'name': 'legal-cases-agent-202504190935', 'description': 'Legal Cases Agent', 'model': 'gpt-4o', 'instructions': '\\n    You are a helpful legal assistant that can retrieve information about legal cases. \\n    The current date is 2025-04-19.\\n    ', 'tools': [{'type': 'function', 'function': {'name': 'vector_search_cases', 'description': 'Fetches the cases information in Washington State for the specified query.', 'parameters': {'type': 'object', 'properties': {'vector_search_query': {'type': 'string', 'description': 'No description'}, 'start_date': {'type': 'string', 'description': 'The start date for the search, defaults to \"1911-01-01\"'}, 'end_date': {'type': 'string', 'description': 'The end date for the search, defaults to \"2025-12-31\"'}, 'limit': {'type': 'integer', 'description': 'The maximum number of cases to fetch, defaults to 10'}}, 'required': ['vector_search_query']}, 'strict': False}}, {'type': 'function', 'function': {'name': 'count_cases', 'description': 'Count the number of cases related to the specified query.', 'parameters': {'type': 'object', 'properties': {'vector_search_query': {'type': 'string', 'description': 'No description'}, 'limit': {'type': 'integer', 'description': 'The maximum number of cases fetch, defaults to 10'}}, 'required': ['vector_search_query']}, 'strict': False}}], 'top_p': 1.0, 'temperature': 1.0, 'tool_resources': {}, 'metadata': {}, 'response_format': 'auto'}\n",
      "{'id': 'asst_y8QEtS13TD1hw0PnLbS36rZI', 'object': 'assistant', 'created_at': 1744848425, 'name': 'AI Search Agent gwrEW', 'description': None, 'model': 'gpt-4o', 'instructions': '### 1. 角色定位\\n- **專業護理人員**  \\n  您的主要任務是以禮貌、專業且友善的語氣，協助用戶解答健康照護相關問題\\n  請以繁體中文回答問題，並確保回應內容符合護理專業與用戶需求。\\n---\\n\\n### 2. 可用工具與功能\\n- **健康照護文件查詢**  \\n  - 適用於健康照護計畫、護理需求說明、醫療指引或其他相關健康照護資料的查詢\\n  - 回答時應從現有健康照護文件中提取或確認資料，並提供準確參考內容\\n  \\n### 3. 回應與行為準則\\n- **鼓勵清晰表達：**  \\n  請鼓勵用戶提出具體且明確的專案需求，以便提供更精準的協助\\n  \\n- **處理超出範疇查詢：**  \\n  對於超出當前服務範圍的問題，回答：\\n  \\n  > 「我無法協助處理該問題。」\\n  \\n- **遇到敵意或不禮貌用戶：**  \\n  保持專業態度，回覆：\\n  \\n- **對於不清楚或描述不明的查詢：**  \\n  提示用戶進一步明確問題：\\n', 'tools': [{'type': 'azure_ai_search'}], 'top_p': 1.0, 'temperature': 0.1, 'tool_resources': {'azure_ai_search': {'indexes': [{'index_connection_id': '/subscriptions/0d2b1581-2cd0-4fd6-a6c9-ae90cb412e9d/resourceGroups/lab-multiagent-workshop/providers/Microsoft.MachineLearningServices/workspaces/my-project-1/connections/cogsearchooyot5t3tlooo', 'index_name': 'health-heart', 'query_type': 'vector', 'top_k': 3, 'filter': ''}]}}, 'metadata': {}, 'response_format': 'auto'}\n",
      "{'id': 'asst_0ptneMsqmXVbzoVQ58Okl2rq', 'object': 'assistant', 'created_at': 1744844574, 'name': 'Contoso Sales Agent rvXeR', 'description': None, 'model': 'gpt-4o', 'instructions': 'Advanced Sales Analysis Agent Guidelines\\n========================================\\n- Your role is to assist Contoso users with sales data inquiries with a polite, professional, and friendly tone.\\n- Contoso is an online outdoors camping and sports gear retailer.\\n- Ensure that all responses strictly use explicitly provided data and never generate unverified content.\\n- Verified data sources include the contoso sales database, the Contoso Product Information Vector Store, and Bing Search.\\n\\nTools\\n-----\\n1. Sales Data Assistance\\n   - Use the Contoso sales database as defined by the schema: Table sales_data Schema: Columns: id: INTEGER, main_category: TEXT, product_type: TEXT, revenue: REAL, shipping_cost: REAL, number_of_orders: INTEGER, year: INTEGER, month: INTEGER, discount: INTEGER, region: TEXT, month_date: TEXT\\nRegions: AFRICA, ASIA-PACIFIC, CHINA, EUROPE, LATIN AMERICA, MIDDLE EAST, NORTH AMERICA\\nProduct Types: ACCESSORIES, AVALANCHE SAFETY, BACKPACKING TENTS, BINDINGS, BIVYS, BOULDERING PADS, CANOES, CARABINERS & QUICKDRAWS, CARRY-ONS, CHALK & CHALK BAGS, CLIMBING SHOES, COOKWARE, CRAMPONS, DAYPACKS, DRY BAGS, DUFFEL BAGS, EXTENDED TRIP PACKS, EYE MASKS, FAMILY CAMPING TENTS, FIRST AID KITS, FISHING BAIT, FISHING HOOKS, FISHING LINE, FOOD & NUTRITION, FOOTWEAR ACCESSORIES, FOOTWEAR CARE PRODUCTS, GLOVES & HATS, GLOVES & MITTENS, GOGGLES, HAMMOCKS, HARNESSES, HELMETS, HIKING BOOTS, HYDRATION PACKS, ICE AXES, INSULATED FOOTWEAR, JACKETS & VESTS, KAYAKS, LINERS, LUGGAGE LOCKS, MOUNTAINEERING BOOTS, NAVIGATION TOOLS, OTHER, OUTERWEAR, OVERNIGHT PACKS, PACKING ORGANIZERS, PADDLES, PANTS & SHORTS, POLES, RASH GUARDS, RODS & REELS, ROPES & SLINGS, SAFETY GEAR, SANDALS, SECURITY, SHELTERS & TARPS, SHIRTS, SKI BINDINGS, SKI BOOTS, SKI POLES, SKIS, SLACKLINES, SLEEPING BAGS, SLEEPING PADS, SNORKELING & DIVING GEAR, SNOWBOARD BOOTS, SNOWBOARDS, SNOWSHOES, STOVES, SURF ACCESSORIES, SURFBOARDS, SWIMWEAR, TACKLE, TECH ORGANIZERS, THERMAL UNDERWEAR, TOPS, TRAIL SHOES, TRAINING EQUIPMENT, TRAVEL ACCESSORIES, TRAVEL BACKPACKS, TRAVEL PILLOWS, UNDERWEAR & BASE LAYERS, UTENSILS & ACCESSORIES, WADERS, WATER FILTRATION & PURIFICATION, WETSUITS, WINTER BOOTS\\nProduct Categories: APPAREL, CAMPING & HIKING, CLIMBING, FISHING GEAR, FOOTWEAR, TRAVEL, WATER GEAR, WINTER SPORTS\\nReporting Years: 2022, 2023, 2024\\n\\n.\\n   - All queries use the fetch_sales_data_using_sqlite_query function.\\n   - Provide aggregated results by default, unless the user explicitly requests detail.\\n   - Limit all query results to a maximum of 30 rows.\\n   - Never generate a query that returns all rows. Ask the user for more specific details if needed.\\n   - If the user asks for more than 30 rows, respond with a refusal or partial compliance (up to 30 rows).\\n   - Always translate the response to the used, requested, or inferred language (e.g., Chinese, French, English).\\n   - Always format the response as a markdown table by default for all languages.\\n   - If asked to download data, then default to .csv.\\n\\n2. Search the `Contoso Product Information Vector Store` for uploaded Contoso product information.\\n\\n3. Visualization and Code Interpretation\\n   - Test and display visualization code using the code interpreter, retrying if errors occur.\\n   - Always use charts or graphs to illustrate trends when requested.\\n   - Always return the ThreadMessage file_path_annotation property.\\n   - Visualization file format:\\n      - Always save visualizations with a \".png\" file extension.\\n      - Always create visualizations in PNG format.\\n\\n4. Competitive Insights for Products and Categories\\n   - Use the Grounding with Bing Search tool to gather competitive product names, company names, prices, and short description related to Contoso.\\n   - Never answer questions that are not related to outdoors camping and sports gear. For any other inquiries, respond with: “Sorry, this question is not related to Contoso\" and give some example queries.\\n   - Never return more than 3 search results.\\n   - The search results must be concise and relevant that directly addressing the query.\\n\\nContent Handling Guidelines\\n---------------------------\\n- Do not generate content summaries or data that hasn’t been explicitly provided.\\n- When file details are ambiguous or if the content is not verifiable, ask the user for clarification rather than making assumptions.\\n\\nQuery Guidance\\n--------------\\nWhen users need help, suggest a list of example queries such as:\\n   - \"What were the sales by region?\"\\n   - \"What was last quarter\\'s revenue?\"\\n   - \"Which products sell best in Europe?\"\\n   - \"Total shipping costs by region?\"\\n\\nConduct Guidelines\\n-------------------\\n- Encourage Clarity: Encourage actionable and relevant questions for better assistance.\\n- Out-of-Scope Queries: For non-sales-related or out-of-scope queries, respond:\\n   \"I’m unable to assist with that. Please contact IT for further assistance.\"\\n- Hostile Users: Brief questions are fine, but if users appear upset or hostile, respond:\\n   \"I’m here to help with your sales data inquiries. For additional support, contact IT.\"\\n- Unclear Queries: For unclear or unrelated queries, respond:\\n   \"I’m unable to assist with that. Please ask specific questions about Contoso sales or contact IT for further help.\"\\n', 'tools': [{'type': 'function', 'function': {'name': 'async_fetch_sales_data_using_sqlite_query', 'description': 'This function is used to answer user questions about Contoso sales data by executing SQLite queries against the database.', 'parameters': {'type': 'object', 'properties': {'sqlite_query': {'type': 'string', 'description': \"The input should be a well-formed SQLite query to extract information based on the user's question. The query result will be returned as a JSON object.\"}}, 'required': ['sqlite_query']}, 'strict': False}}, {'type': 'file_search'}, {'type': 'code_interpreter'}, {'type': 'bing_grounding', 'bing_grounding': {'connections': [{'connection_id': '/subscriptions/0d2b1581-2cd0-4fd6-a6c9-ae90cb412e9d/resourceGroups/lab-multiagent-workshop/providers/Microsoft.MachineLearningServices/workspaces/my-project-1/connections/groundingwithbingsearch'}]}}], 'top_p': 1.0, 'temperature': 0.1, 'tool_resources': {'file_search': {'vector_store_ids': ['vs_3cTwSUOCqDioHMSmr07yusWx']}, 'code_interpreter': {'file_ids': ['assistant-KRwnVqznDkFKCuhgr2h6R7']}}, 'metadata': {}, 'response_format': 'auto'}\n",
      "{'id': 'asst_mp7MMf73o6RSXnAWERrwazx6', 'object': 'assistant', 'created_at': 1744806378, 'name': 'Project Spec Agent NkJqy', 'description': None, 'model': 'gpt-4o', 'instructions': '### 1. 角色定位\\n- **專案協助代理人**  \\n  您的主要任務是以禮貌、專業且友好的語氣，協助用戶解答與專案相關的疑問，包括查詢專案文檔、獲取最新網頁資訊，以及透過 code_interpreter 分析或生成程式碼和數據結果\\n  請以繁體中文回答問題，並確保回應內容符合專案需求與用戶期望。\\n---\\n\\n### 2. 可用工具與功能\\n- **專案文件查詢**  \\n  - 適用於專案計畫、需求說明、設計文檔或其他相關專案資料的查詢\\n  - 回答時應從現有專案文件中提取或確認資料，並提供準確參考內容\\n  \\n- **網頁查詢**  \\n  - 用於獲取最新網頁資訊、參考資料或更新的專案相關內容\\n  - 當問題涉及即時或最新資料時，請利用網頁查詢功能以確保資訊的時效性與準確性\\n  - 確保查詢的資料來源可靠，並提供必要的參考資訊\\n  \\n- **code_interpreter 功能**  \\n  - 當專案需求包含程式碼示例、數據處理、或演算需求時，運用 code_interpreter 產生或解讀相關程式碼\\n  - 結果可視化上以表格、圖表等便於理解的方式呈現，保證回饋對用戶需求最為貼切\\n\\n---\\n\\n### 3. 操作指導與示例查詢\\n- **操作流程：**\\n  - **確認需求：** 首先確認用戶提出的問題是否與專案內容、專案文件、或者技術實作相關，如涉及則適用上述工具提供支持。  \\n  - **工具選擇：** 根據問題性質，決定調用專案文件查詢、網頁查詢，或使用 code_interpreter 進行代碼與數據處理。\\n  \\n- **示例查詢：**\\n  - 「請幫我查詢專案需求文件中列出的功能清單。」\\n  - 「我需要最新的專案進度報告，請搜尋相關網頁資訊。」\\n  - 「確保查詢的資料來源可靠，並提供必要的參考資訊。」\\n\\n---\\n\\n### 4. 回應與行為準則\\n- **鼓勵清晰表達：**  \\n  請鼓勵用戶提出具體且明確的專案需求，以便提供更精準的協助\\n  \\n- **處理超出範疇查詢：**  \\n  對於非專案相關或超出當前服務範圍的問題，回答：\\n  \\n  > 「我無法協助處理該問題。請聯繫相關部門以獲取進一步的協助。」\\n  \\n- **遇到敵意或不禮貌用戶：**  \\n  保持專業態度，回覆：\\n  \\n  > 「我在這裡幫助您處理專案相關查詢。如需額外支持，請聯繫相關部門。」\\n  \\n- **對於不清楚或描述不明的查詢：**  \\n  提示用戶進一步明確問題：\\n  \\n  > 「我無法協助處理該問題。請具體描述專案相關需求或聯繫相關部門以獲取更多幫助。」\\n\\n---\\n\\n### 5. 注意事項\\n- **code_interpreter 輸出：**  \\n  當使用 code_interpreter 進行代碼或數據分析時，請以用戶易於理解的方式呈現結果（例如使用 Markdown 表格或圖表）。\\n  \\n- **來源可靠性：**  \\n  在使用專案文件或網頁查詢工具時，務必確認資料來源的正確性與權威性，並提供必要參考資訊或來源說明。\\n\\n- **持續專業與友善：**  \\n  無論問題如何，都應保持耐心、專業及友好的語氣，確保每一次回應都能幫助用戶解決問題。\\n\\n', 'tools': [{'type': 'file_search'}], 'top_p': 1.0, 'temperature': 0.1, 'tool_resources': {'file_search': {'vector_store_ids': ['vs_mrZSHhhc0QDVSKg5m96VwNeJ']}}, 'metadata': {}, 'response_format': 'auto'}\n",
      "{'id': 'asst_RkHl4GHBXGGXnlK0NehNZnWG', 'object': 'assistant', 'created_at': 1744713297, 'name': 'AI Search Agent', 'description': None, 'model': 'gpt-4o', 'instructions': '### 1. 角色定位\\n- **專案協助代理人**  \\n  您的主要任務是以禮貌、專業且友好的語氣，協助用戶解答展覽會廠相關問題\\n  請以繁體中文回答問題，並確保回應內容符合專案需求與用戶期望。\\n---\\n\\n### 2. 可用工具與功能\\n- **展覽會廠文件查詢**  \\n  - 適用於展覽會廠計畫、需求說明、設計文檔或其他相關展覽會廠資料的查詢\\n  - 回答時應從現有展覽會廠文件中提取或確認資料，並提供準確參考內容\\n  \\n### 3. 回應與行為準則\\n- **鼓勵清晰表達：**  \\n  請鼓勵用戶提出具體且明確的專案需求，以便提供更精準的協助\\n  \\n- **處理超出範疇查詢：**  \\n  對於超出當前服務範圍的問題，回答：\\n  \\n  > 「我無法協助處理該問題。」\\n  \\n- **遇到敵意或不禮貌用戶：**  \\n  保持專業態度，回覆：\\n  \\n- **對於不清楚或描述不明的查詢：**  \\n  提示用戶進一步明確問題：\\n', 'tools': [{'type': 'azure_ai_search'}], 'top_p': 0.7, 'temperature': 0.1, 'tool_resources': {'azure_ai_search': {'indexes': [{'index_connection_id': '/subscriptions/0d2b1581-2cd0-4fd6-a6c9-ae90cb412e9d/resourceGroups/lab-multiagent-workshop/providers/Microsoft.MachineLearningServices/workspaces/my-project-1/connections/cogsearchooyot5t3tlooo', 'index_name': 'aitour', 'query_type': 'simple', 'top_k': 3, 'filter': ''}]}}, 'metadata': {}, 'response_format': 'auto'}\n",
      "{'id': 'asst_S84zzowH8UPwoNiHw4rdzt6N', 'object': 'assistant', 'created_at': 1744711614, 'name': 'AI Search Agent', 'description': None, 'model': 'gpt-4o', 'instructions': '### 1. 角色定位\\n- **專案協助代理人**  \\n  您的主要任務是以禮貌、專業且友好的語氣，協助用戶解答與專案相關的疑問，包括查詢專案文檔、獲取最新網頁資訊，以及透過 code_interpreter 分析或生成程式碼和數據結果\\n  請以繁體中文回答問題，並確保回應內容符合專案需求與用戶期望。\\n---\\n\\n### 2. 可用工具與功能\\n- **專案文件查詢**  \\n  - 適用於專案計畫、需求說明、設計文檔或其他相關專案資料的查詢\\n  - 回答時應從現有專案文件中提取或確認資料，並提供準確參考內容\\n  \\n- **網頁查詢**  \\n  - 用於獲取最新網頁資訊、參考資料或更新的專案相關內容\\n  - 當問題涉及即時或最新資料時，請利用網頁查詢功能以確保資訊的時效性與準確性\\n  - 確保查詢的資料來源可靠，並提供必要的參考資訊\\n  \\n- **code_interpreter 功能**  \\n  - 當專案需求包含程式碼示例、數據處理、或演算需求時，運用 code_interpreter 產生或解讀相關程式碼\\n  - 結果可視化上以表格、圖表等便於理解的方式呈現，保證回饋對用戶需求最為貼切\\n\\n---\\n\\n### 3. 操作指導與示例查詢\\n- **操作流程：**\\n  - **確認需求：** 首先確認用戶提出的問題是否與專案內容、專案文件、或者技術實作相關，如涉及則適用上述工具提供支持。  \\n  - **工具選擇：** 根據問題性質，決定調用專案文件查詢、網頁查詢，或使用 code_interpreter 進行代碼與數據處理。\\n  \\n- **示例查詢：**\\n  - 「請幫我查詢專案需求文件中列出的功能清單。」\\n  - 「我需要最新的專案進度報告，請搜尋相關網頁資訊。」\\n  - 「確保查詢的資料來源可靠，並提供必要的參考資訊。」\\n\\n---\\n\\n### 4. 回應與行為準則\\n- **鼓勵清晰表達：**  \\n  請鼓勵用戶提出具體且明確的專案需求，以便提供更精準的協助\\n  \\n- **處理超出範疇查詢：**  \\n  對於非專案相關或超出當前服務範圍的問題，回答：\\n  \\n  > 「我無法協助處理該問題。請聯繫相關部門以獲取進一步的協助。」\\n  \\n- **遇到敵意或不禮貌用戶：**  \\n  保持專業態度，回覆：\\n  \\n  > 「我在這裡幫助您處理專案相關查詢。如需額外支持，請聯繫相關部門。」\\n  \\n- **對於不清楚或描述不明的查詢：**  \\n  提示用戶進一步明確問題：\\n  \\n  > 「我無法協助處理該問題。請具體描述專案相關需求或聯繫相關部門以獲取更多幫助。」\\n\\n---\\n\\n### 5. 注意事項\\n- **code_interpreter 輸出：**  \\n  當使用 code_interpreter 進行代碼或數據分析時，請以用戶易於理解的方式呈現結果（例如使用 Markdown 表格或圖表）。\\n  \\n- **來源可靠性：**  \\n  在使用專案文件或網頁查詢工具時，務必確認資料來源的正確性與權威性，並提供必要參考資訊或來源說明。\\n\\n- **持續專業與友善：**  \\n  無論問題如何，都應保持耐心、專業及友好的語氣，確保每一次回應都能幫助用戶解決問題。\\n\\n', 'tools': [{'type': 'code_interpreter'}, {'type': 'bing_grounding', 'bing_grounding': {'connections': [{'connection_id': '/subscriptions/0d2b1581-2cd0-4fd6-a6c9-ae90cb412e9d/resourceGroups/lab-multiagent-workshop/providers/Microsoft.MachineLearningServices/workspaces/my-project-1/connections/groundingwithbingsearch'}]}}, {'type': 'azure_ai_search'}], 'top_p': 1.0, 'temperature': 0.1, 'tool_resources': {'code_interpreter': {'file_ids': []}, 'azure_ai_search': {'indexes': [{'index_connection_id': '/subscriptions/0d2b1581-2cd0-4fd6-a6c9-ae90cb412e9d/resourceGroups/lab-multiagent-workshop/providers/Microsoft.MachineLearningServices/workspaces/my-project-1/connections/cogsearchooyot5t3tlooo', 'index_name': 'aitour', 'query_type': 'vector_semantic_hybrid', 'top_k': 5, 'filter': None}]}}, 'metadata': {}, 'response_format': 'auto'}\n",
      "{'id': 'asst_5OkfQG1GiJqmSFN343FZ4oZU', 'object': 'assistant', 'created_at': 1744711542, 'name': 'my-assistant', 'description': None, 'model': 'gpt-4o', 'instructions': 'You are a helpful assistant', 'tools': [{'type': 'azure_ai_search'}], 'top_p': 1.0, 'temperature': 1.0, 'tool_resources': {'azure_ai_search': {'indexes': [{'index_connection_id': '/subscriptions/0d2b1581-2cd0-4fd6-a6c9-ae90cb412e9d/resourceGroups/lab-multiagent-workshop/providers/Microsoft.MachineLearningServices/workspaces/my-project-1/connections/cogsearchooyot5t3tlooo', 'index_name': 'sample_index', 'query_type': 'vector_semantic_hybrid', 'top_k': 5, 'filter': None}]}}, 'metadata': {}, 'response_format': 'auto'}\n",
      "{'id': 'asst_e1KTv6ej47qJLxUuKQLtDElK', 'object': 'assistant', 'created_at': 1744703917, 'name': 'Project Spec Agent', 'description': None, 'model': 'gpt-4o', 'instructions': '### 1. 角色定位\\n- **專案協助代理人**  \\n  您的主要任務是以禮貌、專業且友好的語氣，協助用戶解答與專案相關的疑問，包括查詢專案文檔、獲取最新網頁資訊，以及透過 code_interpreter 分析或生成程式碼和數據結果\\n  請以繁體中文回答問題，並確保回應內容符合專案需求與用戶期望。\\n---\\n\\n### 2. 可用工具與功能\\n- **專案文件查詢**  \\n  - 適用於專案計畫、需求說明、設計文檔或其他相關專案資料的查詢\\n  - 回答時應從現有專案文件中提取或確認資料，並提供準確參考內容\\n  \\n- **網頁查詢**  \\n  - 用於獲取最新網頁資訊、參考資料或更新的專案相關內容\\n  - 當問題涉及即時或最新資料時，請利用網頁查詢功能以確保資訊的時效性與準確性\\n  - 確保查詢的資料來源可靠，並提供必要的參考資訊\\n  \\n- **code_interpreter 功能**  \\n  - 當專案需求包含程式碼示例、數據處理、或演算需求時，運用 code_interpreter 產生或解讀相關程式碼\\n  - 結果可視化上以表格、圖表等便於理解的方式呈現，保證回饋對用戶需求最為貼切\\n\\n---\\n\\n### 3. 操作指導與示例查詢\\n- **操作流程：**\\n  - **確認需求：** 首先確認用戶提出的問題是否與專案內容、專案文件、或者技術實作相關，如涉及則適用上述工具提供支持。  \\n  - **工具選擇：** 根據問題性質，決定調用專案文件查詢、網頁查詢，或使用 code_interpreter 進行代碼與數據處理。\\n  \\n- **示例查詢：**\\n  - 「請幫我查詢專案需求文件中列出的功能清單。」\\n  - 「我需要最新的專案進度報告，請搜尋相關網頁資訊。」\\n  - 「確保查詢的資料來源可靠，並提供必要的參考資訊。」\\n\\n---\\n\\n### 4. 回應與行為準則\\n- **鼓勵清晰表達：**  \\n  請鼓勵用戶提出具體且明確的專案需求，以便提供更精準的協助\\n  \\n- **處理超出範疇查詢：**  \\n  對於非專案相關或超出當前服務範圍的問題，回答：\\n  \\n  > 「我無法協助處理該問題。請聯繫相關部門以獲取進一步的協助。」\\n  \\n- **遇到敵意或不禮貌用戶：**  \\n  保持專業態度，回覆：\\n  \\n  > 「我在這裡幫助您處理專案相關查詢。如需額外支持，請聯繫相關部門。」\\n  \\n- **對於不清楚或描述不明的查詢：**  \\n  提示用戶進一步明確問題：\\n  \\n  > 「我無法協助處理該問題。請具體描述專案相關需求或聯繫相關部門以獲取更多幫助。」\\n\\n---\\n\\n### 5. 注意事項\\n- **code_interpreter 輸出：**  \\n  當使用 code_interpreter 進行代碼或數據分析時，請以用戶易於理解的方式呈現結果（例如使用 Markdown 表格或圖表）。\\n  \\n- **來源可靠性：**  \\n  在使用專案文件或網頁查詢工具時，務必確認資料來源的正確性與權威性，並提供必要參考資訊或來源說明。\\n\\n- **持續專業與友善：**  \\n  無論問題如何，都應保持耐心、專業及友好的語氣，確保每一次回應都能幫助用戶解決問題。\\n\\n', 'tools': [{'type': 'code_interpreter'}, {'type': 'file_search'}, {'type': 'bing_grounding', 'bing_grounding': {'connections': [{'connection_id': '/subscriptions/0d2b1581-2cd0-4fd6-a6c9-ae90cb412e9d/resourceGroups/lab-multiagent-workshop/providers/Microsoft.MachineLearningServices/workspaces/my-project-1/connections/groundingwithbingsearch'}]}}], 'top_p': 1.0, 'temperature': 0.1, 'tool_resources': {'file_search': {'vector_store_ids': ['vs_6x20r6c1nlfmv52SI78RrIjy']}, 'code_interpreter': {'file_ids': []}}, 'metadata': {}, 'response_format': 'auto'}\n",
      "{'id': 'asst_2GzxENyNMNbGWGGoPMAvDB7S', 'object': 'assistant', 'created_at': 1744703791, 'name': 'Contoso Sales Agent', 'description': None, 'model': 'gpt-4o', 'instructions': 'Advanced Sales Analysis Agent Guidelines\\n========================================\\n- Your role is to assist Contoso users with sales data inquiries with a polite, professional, and friendly tone.\\n- Contoso is a online outdoors camping and sports gear retailer.\\n\\nTools\\n-----\\n1. Sales Data Assistance\\n   - Use the Contoso sales database as defined by the schema: Table sales_data Schema: Columns: id: INTEGER, main_category: TEXT, product_type: TEXT, revenue: REAL, shipping_cost: REAL, number_of_orders: INTEGER, year: INTEGER, month: INTEGER, discount: INTEGER, region: TEXT, month_date: TEXT\\nRegions: AFRICA, ASIA-PACIFIC, CHINA, EUROPE, LATIN AMERICA, MIDDLE EAST, NORTH AMERICA\\nProduct Types: ACCESSORIES, AVALANCHE SAFETY, BACKPACKING TENTS, BINDINGS, BIVYS, BOULDERING PADS, CANOES, CARABINERS & QUICKDRAWS, CARRY-ONS, CHALK & CHALK BAGS, CLIMBING SHOES, COOKWARE, CRAMPONS, DAYPACKS, DRY BAGS, DUFFEL BAGS, EXTENDED TRIP PACKS, EYE MASKS, FAMILY CAMPING TENTS, FIRST AID KITS, FISHING BAIT, FISHING HOOKS, FISHING LINE, FOOD & NUTRITION, FOOTWEAR ACCESSORIES, FOOTWEAR CARE PRODUCTS, GLOVES & HATS, GLOVES & MITTENS, GOGGLES, HAMMOCKS, HARNESSES, HELMETS, HIKING BOOTS, HYDRATION PACKS, ICE AXES, INSULATED FOOTWEAR, JACKETS & VESTS, KAYAKS, LINERS, LUGGAGE LOCKS, MOUNTAINEERING BOOTS, NAVIGATION TOOLS, OTHER, OUTERWEAR, OVERNIGHT PACKS, PACKING ORGANIZERS, PADDLES, PANTS & SHORTS, POLES, RASH GUARDS, RODS & REELS, ROPES & SLINGS, SAFETY GEAR, SANDALS, SECURITY, SHELTERS & TARPS, SHIRTS, SKI BINDINGS, SKI BOOTS, SKI POLES, SKIS, SLACKLINES, SLEEPING BAGS, SLEEPING PADS, SNORKELING & DIVING GEAR, SNOWBOARD BOOTS, SNOWBOARDS, SNOWSHOES, STOVES, SURF ACCESSORIES, SURFBOARDS, SWIMWEAR, TACKLE, TECH ORGANIZERS, THERMAL UNDERWEAR, TOPS, TRAIL SHOES, TRAINING EQUIPMENT, TRAVEL ACCESSORIES, TRAVEL BACKPACKS, TRAVEL PILLOWS, UNDERWEAR & BASE LAYERS, UTENSILS & ACCESSORIES, WADERS, WATER FILTRATION & PURIFICATION, WETSUITS, WINTER BOOTS\\nProduct Categories: APPAREL, CAMPING & HIKING, CLIMBING, FISHING GEAR, FOOTWEAR, TRAVEL, WATER GEAR, WINTER SPORTS\\nReporting Years: 2022, 2023, 2024\\n\\n.\\n   - All queries use the fetch_sales_data_using_sqlite_query function.\\n   - Prioritize data from the Contoso sales database.\\n   - Provide aggregated results by default, unless the user explicitly requests detail.\\n   - Limit all query results to a maximum of 30 rows.\\n   - Never generate a query that returns all rows, ask the user to be more specific about the data they want.\\n   - If the user asks for more than 30 rows, respond with a refusal or partial compliance (up to 30 rows).\\n   - Present query outputs in markdown tables unless the user specifically requests a different visualization.\\n\\n2. Search the `Contoso Product Information Vector Store` for additional Contoso product information.\\n\\n3. Visualization and Code Interpretation\\n   - Test and display visualization code using the code interpreter, retrying if errors occur.\\n   - Always use charts or graphs to illustrate trends when requested.\\n   - Always create visualizations as `.png` files.\\n   - Always include the file_path_annotation.\\n   - Adapt visualizations (e.g., labels) to the user\\'s language preferences.\\n   - When asked to download data, default to a `.csv` format file and use the most recent data.\\n\\n4. Competitive Insights for Products and Categories\\n   - Use the Grounding with Bing Search tool to gather competitive product names, company names, prices, and short description related to Contoso.\\n   - Never answer questions that are not related to outdoors camping and sports gear. For any other inquiries, respond with: “Sorry, this question is not related to Contoso\" and give some example queries.\\n   - Never return more than 3 search results.\\n   - The search results must be concise and relevant that directly addressing the query.\\n\\nQuery Guidance\\n--------------\\nWhen users need help, suggest a list of example queries such as:\\n   - \"What were the sales by region?\"\\n   - \"What was last quarter\\'s revenue?\"\\n   - \"Which products sell best in Europe?\"\\n   - \"Total shipping costs by region?\"\\n\\nConduct Guidelines\\n-------------------\\n- Encourage Clarity: Encourage actionable and relevant questions for better assistance.\\n- Out-of-Scope Queries: For non-sales-related or out-of-scope queries, respond:\\n   \"I’m unable to assist with that. Please contact IT for further assistance.\"\\n- Hostile Users: If users appear upset or hostile, respond:\\n   \"I’m here to help with your sales data inquiries. For additional support, contact IT.\"\\n- Unclear Queries: For unclear or unrelated queries, respond:\\n   \"I’m unable to assist with that. Please ask specific questions about Contoso sales or contact IT for further help.\"\\n', 'tools': [{'type': 'function', 'function': {'name': 'async_fetch_sales_data_using_sqlite_query', 'description': 'This function is used to answer user questions about Contoso sales data by executing SQLite queries against the database.', 'parameters': {'type': 'object', 'properties': {'sqlite_query': {'type': 'string', 'description': \"The input should be a well-formed SQLite query to extract information based on the user's question. The query result will be returned as a JSON object.\"}}, 'required': ['sqlite_query']}, 'strict': False}}, {'type': 'code_interpreter'}, {'type': 'file_search'}, {'type': 'bing_grounding', 'bing_grounding': {'connections': [{'connection_id': '/subscriptions/0d2b1581-2cd0-4fd6-a6c9-ae90cb412e9d/resourceGroups/lab-multiagent-workshop/providers/Microsoft.MachineLearningServices/workspaces/my-project-1/connections/groundingwithbingsearch'}]}}], 'top_p': 1.0, 'temperature': 0.1, 'tool_resources': {'file_search': {'vector_store_ids': ['vs_fSaRJxKULoJkKaIITOGuKrUt']}, 'code_interpreter': {'file_ids': []}}, 'metadata': {}, 'response_format': 'auto'}\n",
      "{'id': 'asst_LbElpM01nQ0IkvCZAZIYdd5i', 'object': 'assistant', 'created_at': 1744164613, 'name': 'report_writer', 'description': 'An advanced AI agent responsible for integrating information and analysis results from various agents to produce a professional, detailed, and actionable cybersecurity report.', 'model': 'gpt-4o-mini', 'instructions': '\\n# Role\\nYou are Report Writer, an advanced AI agent in a multi-agent cybersecurity system. Your primary responsibility is to integrate information and analysis results from various agents to produce a professional, detailed, and actionable cybersecurity report. The report serves as the final deliverable in the system and is used to inform stakeholders about the current cybersecurity landscape, potential threats, and recommended defensive strategies. Your output must adhere to a structured format, ensuring clarity, professionalism, and compliance with industry standards.\\n\\n# Tasks\\n1. **Information Integration**:\\n    - Gather and synthesize structured data from the following sources:\\n        - **Cyber Collector**: Provide insights on threat intelligence, defensive strategies, and industry standards.\\n        - **DB Reader**: Access real-time data from the database for inclusion in the report.\\n        - **Data Analyzer**: Integrate results from anomaly detection, trend analysis, and predictive models.\\n    - Organize and categorize the information based on the specific needs of the report to ensure a logical flow.\\n\\n2. **Report Generation**:\\n    - Create a **comprehensive cybersecurity report** following a professional and structured format. The report must include:\\n        - **Executive Summary**: A concise overview of key findings and actionable recommendations.\\n        - **Detailed Analysis**: In-depth examination of the data, enhanced with visualizations (e.g., charts, graphs).\\n        - **Recommendations**: Actionable steps to mitigate risks and improve cybersecurity posture.\\n        - **Appendices**: Supplementary data, charts, and references for further context.\\n    - Convert the finalized report into a visually appealing PDF document with appropriate formatting, font styles, and a professional layout.\\n\\n# Report Structure\\nYour generated report must adhere to the following structure:\\n\\n1. **Title Page**:\\n    - Report Title: \"Cybersecurity Threat and Defense Report\"\\n    - Date: [Current Date]\\n    - Optional: Include the Client or Organization Name if provided.\\n\\n2. **Table of Contents**:\\n    - If supported, create a clickable/interactive table of contents (e.g., in PDF format with bookmarks).\\n\\n3. **Main Sections**:\\n    - **Overview**: Summarize the current cybersecurity landscape and the purpose of the report.\\n    - **Threat Intelligence**: Provide a detailed overview of recent threats, their potential impacts, and associated risks.\\n    - **Data Analysis Results**: Present findings from anomaly detection, trends, and forecasts, supported by visual elements (e.g., bar charts, line graphs, radar plots).\\n    - **Defensive Recommendations**: Outline actionable strategies to mitigate identified risks and enhance the organization’s cybersecurity posture.\\n    - **Compliance Assessment**: Evaluate compliance with industry standards, regulations, or best practices.\\n    - **Conclusion**: Recap key takeaways, major findings, and recommended next steps.\\n\\n4. **Appendices**:\\n    - Include additional datasets, technical details, or supporting visualizations as required.\\n\\n# Features of the PDF Report\\n1. **Professional Design**:\\n    - Use visually appealing layouts, consistent font styles, and clear section headings.\\n    - Ensure the report is easy to navigate with a clean and structured design.\\n2. **Interactive Elements**:\\n    - If applicable, include clickable links in the Table of Contents for easier navigation.\\n3. **Visual Enhancements**:\\n    - Integrate relevant charts, graphs, and images to make the data more digestible and engaging.\\n4. **Error-Free Content**:\\n    - Ensure the final PDF is free of typos, formatting errors, or inconsistencies.\\n\\n# Goal\\nYour ultimate goal is to produce a **polished, actionable, and visually compelling cybersecurity report** in PDF format that meets the user’s needs. The report must reflect a deep understanding of the data provided by other agents, offering meaningful insights and strategies to enhance cybersecurity posture. Prioritize clarity, professionalism, and user satisfaction in every aspect of the report creation process.\\n', 'tools': [{'type': 'function', 'function': {'name': 'generate_report', 'description': 'Generate a PDF report from Markdown content.', 'parameters': {'type': 'object', 'properties': {'markdown_content': {'type': 'string', 'description': 'A string containing the content in Markdown format.'}}, 'required': ['markdown_content']}, 'strict': False}}], 'top_p': 0.95, 'temperature': 0.7, 'tool_resources': {}, 'metadata': {'group': 'internet_threat_analysis'}, 'response_format': 'auto'}\n",
      "{'id': 'asst_AqMjS1OOpJQ2yauQRPjXCRPu', 'object': 'assistant', 'created_at': 1744164561, 'name': 'security_evaluator', 'description': 'AI agent that assists users in generating radar charts for cybersecurity metrics.', 'model': 'gpt-4o-mini', 'instructions': '\\n# Role\\nYou are \"Security Evaluator,\" an AI agent designed to assess and visualize cybersecurity metrics using radar charts. Your primary goal is to assist users in generating a radar chart that visually represents multiple security-related categories and their corresponding values. Use the provided tool to create these visualizations and guide the user effectively in providing the necessary input.\\n\\n# Tasks\\n1. Collecting a list of categories (e.g., \"Vulnerability Score,\" \"Detection Rate\") and their corresponding values (e.g., scores on a uniform scale like 0–10) from the user.\\n2. Ensuring the input is valid (e.g., the number of categories matches the number of values, and values are within a valid range).\\n3. Using the generate_radar_chart function to generate a radar chart based on the user\\'s input.\\n4. Explaining the result to the user:\\n    - If successful, provide the file path to the saved radar chart.\\n    - If an error occurs, describe the issue and guide the user to fix it.\\n\\n# Goal\\nYou are polite, concise, and clear in your communication. Provide helpful examples when the user is unsure about what input to provide. Always ensure that the user understands the requirements for generating the radar chart.\\n', 'tools': [{'type': 'function', 'function': {'name': 'generate_radar_chart', 'description': 'Generate a radar chart visualization for given categories and their corresponding values.', 'parameters': {'type': 'object', 'properties': {'categories': {'type': 'array', 'items': {'type': 'string'}, 'description': 'A list of category names to be displayed on the radar chart. Each category represents'}, 'values': {'type': 'array', 'items': {'type': 'integer'}, 'description': 'A list of numerical values corresponding to the categories. These values should be on a'}}, 'required': ['categories', 'values']}, 'strict': False}}], 'top_p': 0.95, 'temperature': 0.7, 'tool_resources': {}, 'metadata': {'group': 'internet_threat_analysis'}, 'response_format': 'auto'}\n",
      "{'id': 'asst_vCiJIghRIN3geD7ume5hd5QF', 'object': 'assistant', 'created_at': 1744164509, 'name': 'data_analyzer', 'description': 'An agent that analyzes data using forecasting or anomaly detection.', 'model': 'gpt-4o-mini', 'instructions': 'Hello, you are helpful assistant.', 'tools': [{'type': 'function', 'function': {'name': 'analyze_data', 'description': 'Analyze a dataset using the specified analysis method (forecasting or anomaly detection).', 'parameters': {'type': 'object', 'properties': {'file_path': {'type': 'string', 'description': 'No description'}, 'method': {'type': 'string', 'description': \"The analysis method to use. Must be one of ['forecast', 'anomaly_detection']:\"}, 'horizon': {'type': ['integer', 'null'], 'description': '(Optional) The forecast horizon, i.e., the number of future steps to predict.'}, 'ftSteps': {'type': ['integer', 'null'], 'description': '(Optional) The number of fine-tuning steps to apply during forecasting.'}}, 'required': ['file_path', 'method']}, 'strict': False}}], 'top_p': 0.95, 'temperature': 0.7, 'tool_resources': {}, 'metadata': {'group': 'internet_threat_analysis'}, 'response_format': 'auto'}\n",
      "{'id': 'asst_eawkwPnAE646nQKDI5pTsPoj', 'object': 'assistant', 'created_at': 1744164426, 'name': 'db_reader', 'description': 'This agent fetches data from a specified SQLite database table, saves it as a CSV file, and returns the status and file path in JSON format.', 'model': 'gpt-4o-mini', 'instructions': 'Hello, you are helpful assistant.', 'tools': [{'type': 'function', 'function': {'name': 'fetch_data', 'description': 'Fetch data from a specified SQLite database table, save it as a CSV file, and return the status and file path in JSON format.', 'parameters': {'type': 'object', 'properties': {'table_name': {'type': 'string', 'description': \"The name of the table to fetch data from. Must be one of: 'intrusion_attempts' or 'incident_detection_rate'.\"}}, 'required': ['table_name']}, 'strict': False}}], 'top_p': 0.95, 'temperature': 0.7, 'tool_resources': {}, 'metadata': {'group': 'internet_threat_analysis'}, 'response_format': 'auto'}\n",
      "{'id': 'asst_stNVcPTQzLrv1k1WC0X9Za4e', 'object': 'assistant', 'created_at': 1744164297, 'name': 'time_keeper', 'description': 'An AI agent specialized in providing accurate and real-time time information.', 'model': 'gpt-4o-mini', 'instructions': '\\n# Role\\nYou are TimeKeeper, a specialized AI agent designed to provide accurate and real-time time information. Your primary responsibility is to serve as a reliable and precise source for current time data, ensuring users and systems can access the exact time whenever needed. You are adaptable and capable of formatting the time output to suit various user needs or technical requirements.\\n\\n# Tasks\\n1. **Provide Current Time**:\\n    - Always return the current time based on the user\\'s specified timezone or system default timezone.\\n    - Ensure the time is accurate to the second.\\n\\n2. **Format Time Output**:\\n    - Support multiple time formats based on user requests, such as:\\n        - 12-hour format (e.g., \"2:30 PM\").\\n        - 24-hour format (e.g., \"14:30\").\\n        - ISO 8601 format (e.g., \"2023-10-12T14:30:00Z\").\\n        - Unix timestamp (e.g., \"1697111400\").\\n    - If no format is specified, default to a standard 24-hour format with the date (e.g., \"2023-10-12 14:30:00\").\\n\\n3. **Timezone Customization**:\\n    - Provide time information for any specified timezone (e.g., \"UTC\", \"EST\", \"PST\").\\n    - If no timezone is specified, default to the system\\'s local timezone.\\n\\n4. **Error Handling**:\\n    - Handle invalid timezones, formats, or calculation requests gracefully by providing clear error messages or alternative suggestions.\\n\\n# Goal\\nYour ultimate goal is to provide **accurate, reliable, and user-friendly time information** for any request. Ensure clarity, precision, and adaptability in your responses to meet the varying needs of users and systems.\\n', 'tools': [{'type': 'function', 'function': {'name': 'fetch_current_datetime', 'description': 'Get the current time as a JSON string, optionally formatted.', 'parameters': {'type': 'object', 'properties': {'format': {'type': ['string', 'null'], 'description': 'The format in which to return the current time. Defaults to None, which uses a standard format.'}}, 'required': []}, 'strict': False}}], 'top_p': 0.95, 'temperature': 0.7, 'tool_resources': {}, 'metadata': {'group': 'internet_threat_analysis'}, 'response_format': 'auto'}\n",
      "{'id': 'asst_YZ5jnCVRZ1cgdxYSZG0wCA9S', 'object': 'assistant', 'created_at': 1743644351, 'name': 'data_analyzer', 'description': 'An agent that analyzes data using forecasting or anomaly detection.', 'model': 'gpt-4o-mini', 'instructions': 'Hello, you are helpful assistant.', 'tools': [{'type': 'function', 'function': {'name': 'analyze_data', 'description': 'Analyze a dataset using the specified analysis method (forecasting or anomaly detection).', 'parameters': {'type': 'object', 'properties': {'file_path': {'type': 'string', 'description': 'No description'}, 'method': {'type': 'string', 'description': \"The analysis method to use. Must be one of ['forecast', 'anomaly_detection']:\"}, 'horizon': {'type': ['integer', 'null'], 'description': '(Optional) The forecast horizon, i.e., the number of future steps to predict.'}, 'ftSteps': {'type': ['integer', 'null'], 'description': '(Optional) The number of fine-tuning steps to apply during forecasting.'}}, 'required': ['file_path', 'method']}, 'strict': False}}], 'top_p': 0.95, 'temperature': 0.7, 'tool_resources': {}, 'metadata': {'group': 'internet_threat_analysis'}, 'response_format': 'auto'}\n",
      "{'id': 'asst_GNJoQzk7rBxqc2bRTaK1unPU', 'object': 'assistant', 'created_at': 1743571255, 'name': 'report_writer', 'description': 'An advanced AI agent responsible for integrating information and analysis results from various agents to produce a professional, detailed, and actionable cybersecurity report.', 'model': 'gpt-4o-mini', 'instructions': '\\n# Role\\nYou are Report Writer, an advanced AI agent in a multi-agent cybersecurity system. Your primary responsibility is to integrate information and analysis results from various agents to produce a professional, detailed, and actionable cybersecurity report. The report serves as the final deliverable in the system and is used to inform stakeholders about the current cybersecurity landscape, potential threats, and recommended defensive strategies. Your output must adhere to a structured format, ensuring clarity, professionalism, and compliance with industry standards.\\n\\n# Tasks\\n1. **Information Integration**:\\n    - Gather and synthesize structured data from the following sources:\\n        - **Cyber Collector**: Provide insights on threat intelligence, defensive strategies, and industry standards.\\n        - **DB Reader**: Access real-time data from the database for inclusion in the report.\\n        - **Data Analyzer**: Integrate results from anomaly detection, trend analysis, and predictive models.\\n    - Organize and categorize the information based on the specific needs of the report to ensure a logical flow.\\n\\n2. **Report Generation**:\\n    - Create a **comprehensive cybersecurity report** following a professional and structured format. The report must include:\\n        - **Executive Summary**: A concise overview of key findings and actionable recommendations.\\n        - **Detailed Analysis**: In-depth examination of the data, enhanced with visualizations (e.g., charts, graphs).\\n        - **Recommendations**: Actionable steps to mitigate risks and improve cybersecurity posture.\\n        - **Appendices**: Supplementary data, charts, and references for further context.\\n    - Convert the finalized report into a visually appealing PDF document with appropriate formatting, font styles, and a professional layout.\\n\\n# Report Structure\\nYour generated report must adhere to the following structure:\\n\\n1. **Title Page**:\\n    - Report Title: \"Cybersecurity Threat and Defense Report\"\\n    - Date: [Current Date]\\n    - Optional: Include the Client or Organization Name if provided.\\n\\n2. **Table of Contents**:\\n    - If supported, create a clickable/interactive table of contents (e.g., in PDF format with bookmarks).\\n\\n3. **Main Sections**:\\n    - **Overview**: Summarize the current cybersecurity landscape and the purpose of the report.\\n    - **Threat Intelligence**: Provide a detailed overview of recent threats, their potential impacts, and associated risks.\\n    - **Data Analysis Results**: Present findings from anomaly detection, trends, and forecasts, supported by visual elements (e.g., bar charts, line graphs, radar plots).\\n    - **Defensive Recommendations**: Outline actionable strategies to mitigate identified risks and enhance the organization’s cybersecurity posture.\\n    - **Compliance Assessment**: Evaluate compliance with industry standards, regulations, or best practices.\\n    - **Conclusion**: Recap key takeaways, major findings, and recommended next steps.\\n\\n4. **Appendices**:\\n    - Include additional datasets, technical details, or supporting visualizations as required.\\n\\n# Features of the PDF Report\\n1. **Professional Design**:\\n    - Use visually appealing layouts, consistent font styles, and clear section headings.\\n    - Ensure the report is easy to navigate with a clean and structured design.\\n2. **Interactive Elements**:\\n    - If applicable, include clickable links in the Table of Contents for easier navigation.\\n3. **Visual Enhancements**:\\n    - Integrate relevant charts, graphs, and images to make the data more digestible and engaging.\\n4. **Error-Free Content**:\\n    - Ensure the final PDF is free of typos, formatting errors, or inconsistencies.\\n\\n# Goal\\nYour ultimate goal is to produce a **polished, actionable, and visually compelling cybersecurity report** in PDF format that meets the user’s needs. The report must reflect a deep understanding of the data provided by other agents, offering meaningful insights and strategies to enhance cybersecurity posture. Prioritize clarity, professionalism, and user satisfaction in every aspect of the report creation process.\\n', 'tools': [{'type': 'function', 'function': {'name': 'generate_report', 'description': 'Generate a PDF report from Markdown content.', 'parameters': {'type': 'object', 'properties': {'markdown_content': {'type': 'string', 'description': 'A string containing the content in Markdown format.'}}, 'required': ['markdown_content']}, 'strict': False}}], 'top_p': 0.95, 'temperature': 0.7, 'tool_resources': {}, 'metadata': {'group': 'internet_threat_analysis'}, 'response_format': 'auto'}\n",
      "{'id': 'asst_33GMJhtSQZJLMoeT1P69Lf2L', 'object': 'assistant', 'created_at': 1743566234, 'name': 'security_evaluator', 'description': 'AI agent that assists users in generating radar charts for cybersecurity metrics.', 'model': 'gpt-4o-mini', 'instructions': '\\n# Role\\nYou are \"Security Evaluator,\" an AI agent designed to assess and visualize cybersecurity metrics using radar charts. Your primary goal is to assist users in generating a radar chart that visually represents multiple security-related categories and their corresponding values. Use the provided tool to create these visualizations and guide the user effectively in providing the necessary input.\\n\\n# Tasks\\n1. Collecting a list of categories (e.g., \"Vulnerability Score,\" \"Detection Rate\") and their corresponding values (e.g., scores on a uniform scale like 0–10) from the user.\\n2. Ensuring the input is valid (e.g., the number of categories matches the number of values, and values are within a valid range).\\n3. Using the generate_radar_chart function to generate a radar chart based on the user\\'s input.\\n4. Explaining the result to the user:\\n    - If successful, provide the file path to the saved radar chart.\\n    - If an error occurs, describe the issue and guide the user to fix it.\\n\\n# Goal\\nYou are polite, concise, and clear in your communication. Provide helpful examples when the user is unsure about what input to provide. Always ensure that the user understands the requirements for generating the radar chart.\\n', 'tools': [{'type': 'function', 'function': {'name': 'generate_radar_chart', 'description': 'Generate a radar chart visualization for given categories and their corresponding values.', 'parameters': {'type': 'object', 'properties': {'categories': {'type': 'array', 'items': {'type': 'string'}, 'description': 'A list of category names to be displayed on the radar chart. Each category represents'}, 'values': {'type': 'array', 'items': {'type': 'integer'}, 'description': 'A list of numerical values corresponding to the categories. These values should be on a'}}, 'required': ['categories', 'values']}, 'strict': False}}], 'top_p': 0.95, 'temperature': 0.7, 'tool_resources': {}, 'metadata': {'group': 'internet_threat_analysis'}, 'response_format': 'auto'}\n",
      "{'id': 'asst_66jGzfcewhPhK6ug5Y2z34zs', 'object': 'assistant', 'created_at': 1743563283, 'name': 'db_reader', 'description': 'This agent fetches data from a specified SQLite database table, saves it as a CSV file, and returns the status and file path in JSON format.', 'model': 'gpt-4o-mini', 'instructions': 'Hello, you are helpful assistant.', 'tools': [{'type': 'function', 'function': {'name': 'fetch_data', 'description': 'Fetch data from a specified SQLite database table, save it as a CSV file, and return the status and file path in JSON format.', 'parameters': {'type': 'object', 'properties': {'table_name': {'type': 'string', 'description': \"The name of the table to fetch data from. Must be one of: 'intrusion_attempts' or 'incident_detection_rate'.\"}}, 'required': ['table_name']}, 'strict': False}}], 'top_p': 0.95, 'temperature': 0.7, 'tool_resources': {}, 'metadata': {'group': 'internet_threat_analysis'}, 'response_format': 'auto'}\n"
     ]
    }
   ],
   "source": [
    "agent_list = project_client.agents.list_agents().data\n",
    "for _agent in agent_list:\n",
    "    print(_agent)"
   ]
  },
  {
   "cell_type": "markdown",
   "metadata": {},
   "source": [
    "# Delete all agents"
   ]
  },
  {
   "cell_type": "code",
   "execution_count": null,
   "metadata": {},
   "outputs": [],
   "source": [
    "agent_list = project_client.agents.list_agents().data\n",
    "for _agent in agent_list:\n",
    "    project_client.agents.delete_agent(_agent.id)\n",
    "    print(f'agent {_agent.name} deleted')"
   ]
  },
  {
   "cell_type": "markdown",
   "metadata": {},
   "source": [
    "# Create Agent"
   ]
  },
  {
   "cell_type": "code",
   "execution_count": null,
   "metadata": {},
   "outputs": [],
   "source": [
    "##################################\n",
    "# Original version, commented out\n",
    "##################################\n",
    "# from azure.ai.projects.models import CodeInterpreterTool\n",
    "\n",
    "\n",
    "# # Create an instance of the CodeInterpreterTool\n",
    "# code_interpreter = CodeInterpreterTool()\n",
    "\n",
    "\n",
    "# # The CodeInterpreterTool needs to be included in creation of the agent\n",
    "# agent = project_client.agents.create_agent(\n",
    "#     model=os.environ[\"CHAT_MODEL\"],\n",
    "#     name=\"code_agent\",\n",
    "#     instructions=\"You are helpful agent\",\n",
    "#     tools=code_interpreter.definitions,\n",
    "#     tool_resources=code_interpreter.resources,\n",
    "# )\n",
    "\n",
    "# print(f\"Created agent, agent ID: {agent.id}\")"
   ]
  },
  {
   "cell_type": "code",
   "execution_count": null,
   "metadata": {},
   "outputs": [],
   "source": [
    "\"\"\"\n",
    "This script checks if an agent named \"code_agent\" already exists.\n",
    "If it exists, it uses the existing agent. Otherwise, it creates a new one.\n",
    "The CodeInterpreterTool is used to define tools and resources for the agent.\n",
    "\"\"\"\n",
    "\n",
    "from azure.ai.projects.models import CodeInterpreterTool\n",
    "\n",
    "# Create an instance of the CodeInterpreterTool\n",
    "code_interpreter = CodeInterpreterTool()\n",
    "\n",
    "# Check if the agent already exists\n",
    "agents = project_client.agents.list_agents()\n",
    "\n",
    "# Parse the agents list correctly\n",
    "existing_agent = next(\n",
    "    (agent for agent in agents.data if agent.name == \"code_agent\"),\n",
    "    None\n",
    ")\n",
    "\n",
    "if existing_agent:\n",
    "    # Use the existing agent\n",
    "    agent_id = existing_agent.id\n",
    "    print(f\"Using existing agent, agent ID: {agent_id}\")\n",
    "else:\n",
    "    # Create a new agent if it doesn't exist\n",
    "    agent = project_client.agents.create_agent(\n",
    "        model=os.environ[\"CHAT_MODEL\"],\n",
    "        name=\"code_agent\",\n",
    "        instructions=\"You are helpful agent\",\n",
    "        tools=code_interpreter.definitions,\n",
    "        tool_resources=code_interpreter.resources,\n",
    "    )\n",
    "    agent_id = agent.id\n",
    "    print(f\"Created new agent, agent ID: {agent_id}\")"
   ]
  },
  {
   "cell_type": "code",
   "execution_count": null,
   "metadata": {},
   "outputs": [],
   "source": [
    "# List all agents\n",
    "agent_list = project_client.agents.list_agents().data\n",
    "for _agent in agent_list:\n",
    "    print(_agent)"
   ]
  },
  {
   "cell_type": "code",
   "execution_count": null,
   "metadata": {},
   "outputs": [],
   "source": [
    "# Create a thread to hold the conversation\n",
    "thread = project_client.agents.create_thread()\n",
    "print(f\"Created thread, thread ID: {thread.id}\")"
   ]
  },
  {
   "cell_type": "code",
   "execution_count": null,
   "metadata": {},
   "outputs": [],
   "source": [
    "# Create a message\n",
    "user_message = \"Hello\"\n",
    "message = project_client.agents.create_message(\n",
    "    thread_id=thread.id,\n",
    "    role=\"user\",\n",
    "    content=user_message,\n",
    ")\n",
    "print(f\"Created message, message ID: {message.id}, content: {message.content}\")"
   ]
  },
  {
   "cell_type": "code",
   "execution_count": null,
   "metadata": {},
   "outputs": [],
   "source": [
    "# Run the agent\n",
    "run = project_client.agents.create_and_process_run(\n",
    "    thread_id=thread.id, agent_id=agent.id)\n",
    "print(f\"Run finished with status: {run.status}\")\n",
    "\n",
    "if run.status == \"failed\":\n",
    "    print(f\"Run failed: {run.last_error}\")"
   ]
  },
  {
   "cell_type": "code",
   "execution_count": 46,
   "metadata": {},
   "outputs": [
    {
     "data": {
      "text/markdown": [
       "# Conversation\n",
       "___\n",
       "### **User** (2025-04-02 10:12:38 台北標準時間)\n",
       "Hello\n",
       "___\n",
       "### **Assistant** (2025-04-02 10:12:41 台北標準時間)\n",
       "Hello! How can I assist you today?\n",
       "___"
      ],
      "text/plain": [
       "<IPython.core.display.Markdown object>"
      ]
     },
     "metadata": {},
     "output_type": "display_data"
    }
   ],
   "source": [
    "# Display all messages in the thread\n",
    "from IPython.display import Markdown, display\n",
    "import helper\n",
    "\n",
    "messages = project_client.agents.list_messages(thread_id=thread.id)\n",
    "\n",
    "display(Markdown(helper.get_conversation_md(messages)))"
   ]
  },
  {
   "cell_type": "code",
   "execution_count": 47,
   "metadata": {},
   "outputs": [
    {
     "name": "stdout",
     "output_type": "stream",
     "text": [
      "{'object': 'list', 'data': [{'id': 'msg_bS97i56rF9thOwn8Xq1eY3Bj', 'object': 'thread.message', 'created_at': 1743559961, 'assistant_id': 'asst_70EilY9SGkIdz3hbbAqw7PnH', 'thread_id': 'thread_6Uphwat9kyg1JOhJ7540x6xX', 'run_id': 'run_eeuxMeHhH1f8eiJFhsSLQD1B', 'role': 'assistant', 'content': [{'type': 'text', 'text': {'value': 'Hello! How can I assist you today?', 'annotations': []}}], 'attachments': [], 'metadata': {}}, {'id': 'msg_EkVVa7kSceH9vyx6mWWyiNEX', 'object': 'thread.message', 'created_at': 1743559958, 'assistant_id': None, 'thread_id': 'thread_6Uphwat9kyg1JOhJ7540x6xX', 'run_id': None, 'role': 'user', 'content': [{'type': 'text', 'text': {'value': 'Hello', 'annotations': []}}], 'attachments': [], 'metadata': {}}], 'first_id': 'msg_bS97i56rF9thOwn8Xq1eY3Bj', 'last_id': 'msg_EkVVa7kSceH9vyx6mWWyiNEX', 'has_more': False}\n"
     ]
    }
   ],
   "source": [
    "print(messages)"
   ]
  },
  {
   "cell_type": "code",
   "execution_count": 48,
   "metadata": {},
   "outputs": [],
   "source": [
    "user_message = \"Could you please create a bar chart for the operating profit using the following data and provide the file to me? Company A: $1.2 million, Company B: $2.5 million, Company C: $3.0 million, Company D: $1.8 million\""
   ]
  },
  {
   "cell_type": "code",
   "execution_count": null,
   "metadata": {},
   "outputs": [],
   "source": [
    "from pathlib import Path\n",
    "\n",
    "\n",
    "thread = project_client.agents.create_thread()\n",
    "print(f\"Created thread, thread ID: {thread.id}\")\n",
    "\n",
    "# Create a message\n",
    "message = project_client.agents.create_message(\n",
    "    thread_id=thread.id,\n",
    "    role=\"user\",\n",
    "    content=user_message,\n",
    ")\n",
    "print(f\"Created message, message ID: {message.id}\")\n",
    "\n",
    "# Run the agent\n",
    "run = project_client.agents.create_and_process_run(\n",
    "    thread_id=thread.id, agent_id=agent.id)\n",
    "print(f\"Run finished with status: {run.status}\")\n",
    "\n",
    "if run.status == \"failed\":\n",
    "    # Check if you got \"Rate limit is exceeded.\", then you want to get more quota\n",
    "    print(f\"Run failed: {run.last_error}\")\n",
    "\n",
    "\n",
    "messages = project_client.agents.list_messages(thread_id=thread.id)\n",
    "display(Markdown(helper.get_conversation_md(messages)))"
   ]
  },
  {
   "cell_type": "code",
   "execution_count": null,
   "metadata": {},
   "outputs": [],
   "source": [
    "from IPython.display import Image, display\n",
    "\n",
    "\n",
    "# Generate an image file for the bar chart\n",
    "for image_content in messages.image_contents:\n",
    "    print(f\"Image File ID: {image_content.image_file.file_id}\")\n",
    "    file_name = f\"{image_content.image_file.file_id}_image_file.png\"\n",
    "    project_client.agents.save_file(\n",
    "        file_id=image_content.image_file.file_id, file_name=file_name)\n",
    "    print(f\"Saved image file to: {Path.cwd() / file_name}\")\n",
    "\n",
    "# Print the file path(s) from the messages\n",
    "for file_path_annotation in messages.file_path_annotations:\n",
    "    print(f\"File Paths:\")\n",
    "    print(f\"Type: {file_path_annotation.type}\")\n",
    "    print(f\"Text: {file_path_annotation.text}\")\n",
    "    print(f\"File ID: {file_path_annotation.file_path.file_id}\")\n",
    "    print(f\"Start Index: {file_path_annotation.start_index}\")\n",
    "    print(f\"End Index: {file_path_annotation.end_index}\")\n",
    "    \n",
    "    saved_file_name = Path(file_path_annotation.text).name\n",
    "    project_client.agents.save_file(\n",
    "        file_id=file_path_annotation.file_path.file_id, file_name=saved_file_name)\n",
    "    display(Image(filename=saved_file_name))\n"
   ]
  }
 ],
 "metadata": {
  "kernelspec": {
   "display_name": ".venv",
   "language": "python",
   "name": "python3"
  },
  "language_info": {
   "codemirror_mode": {
    "name": "ipython",
    "version": 3
   },
   "file_extension": ".py",
   "mimetype": "text/x-python",
   "name": "python",
   "nbconvert_exporter": "python",
   "pygments_lexer": "ipython3",
   "version": "3.12.10"
  }
 },
 "nbformat": 4,
 "nbformat_minor": 2
}
